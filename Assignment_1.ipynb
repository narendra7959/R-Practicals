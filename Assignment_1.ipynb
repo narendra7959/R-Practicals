{
  "nbformat": 4,
  "nbformat_minor": 0,
  "metadata": {
    "colab": {
      "provenance": [],
      "authorship_tag": "ABX9TyOJLSxOhUsp5jX/kEIwtubO",
      "include_colab_link": true
    },
    "kernelspec": {
      "name": "ir",
      "display_name": "R"
    },
    "language_info": {
      "name": "R"
    }
  },
  "cells": [
    {
      "cell_type": "markdown",
      "metadata": {
        "id": "view-in-github",
        "colab_type": "text"
      },
      "source": [
        "<a href=\"https://colab.research.google.com/github/narendra7959/R-Practicals/blob/main/Assignment_1.ipynb\" target=\"_parent\"><img src=\"https://colab.research.google.com/assets/colab-badge.svg\" alt=\"Open In Colab\"/></a>"
      ]
    },
    {
      "cell_type": "markdown",
      "source": [
        "**Basic Data Structures in R**"
      ],
      "metadata": {
        "id": "UE7fEI7Vettk"
      }
    },
    {
      "cell_type": "code",
      "source": [
        "# Narendra\n",
        "# Reg No : 24040208002"
      ],
      "metadata": {
        "id": "DYEHPnDU358Q"
      },
      "execution_count": 1,
      "outputs": []
    },
    {
      "cell_type": "markdown",
      "source": [
        "**Vectors**"
      ],
      "metadata": {
        "id": "FPlK540Ze6Pl"
      }
    },
    {
      "cell_type": "code",
      "source": [
        "# Numeric vector\n",
        "numeric_vector <- c(1, 2.5, 4, 8, 10)\n",
        "print(numeric_vector)\n",
        "print(class(numeric_vector))"
      ],
      "metadata": {
        "colab": {
          "base_uri": "https://localhost:8080/"
        },
        "id": "z2R1vuaOe8gE",
        "outputId": "453c9631-df34-439a-a1a6-050efaa6e7a8"
      },
      "execution_count": null,
      "outputs": [
        {
          "output_type": "stream",
          "name": "stdout",
          "text": [
            "[1]  1.0  2.5  4.0  8.0 10.0\n",
            "[1] \"numeric\"\n"
          ]
        }
      ]
    },
    {
      "cell_type": "code",
      "source": [
        "# Access the first three elements\n",
        "first_three <- numeric_vector[1:3]\n",
        "print(first_three)"
      ],
      "metadata": {
        "colab": {
          "base_uri": "https://localhost:8080/"
        },
        "id": "Dska_Igye_iJ",
        "outputId": "69c07812-0173-43cd-cbe3-8c8165839797"
      },
      "execution_count": null,
      "outputs": [
        {
          "output_type": "stream",
          "name": "stdout",
          "text": [
            "[1] 1.0 2.5 4.0\n"
          ]
        }
      ]
    },
    {
      "cell_type": "code",
      "source": [
        "# Character vector\n",
        "character_vector <- c(\"apple\", \"banana\", \"cherry\")\n",
        "print(character_vector)\n",
        "print(class(character_vector))"
      ],
      "metadata": {
        "colab": {
          "base_uri": "https://localhost:8080/"
        },
        "id": "YtRH8jGlfB4n",
        "outputId": "68cc0bba-a443-4b38-b573-c6f475daaba6"
      },
      "execution_count": null,
      "outputs": [
        {
          "output_type": "stream",
          "name": "stdout",
          "text": [
            "[1] \"apple\"  \"banana\" \"cherry\"\n",
            "[1] \"character\"\n"
          ]
        }
      ]
    },
    {
      "cell_type": "code",
      "source": [
        "# Combine two vectors\n",
        "combined_vector <- c(numeric_vector, character_vector)\n",
        "print(combined_vector)"
      ],
      "metadata": {
        "colab": {
          "base_uri": "https://localhost:8080/"
        },
        "id": "qgID3Ms5fCjn",
        "outputId": "644a36d0-d26c-47e8-b1a7-f1517182b318"
      },
      "execution_count": null,
      "outputs": [
        {
          "output_type": "stream",
          "name": "stdout",
          "text": [
            "[1] \"1\"      \"2.5\"    \"4\"      \"8\"      \"10\"     \"apple\"  \"banana\" \"cherry\"\n"
          ]
        }
      ]
    },
    {
      "cell_type": "code",
      "source": [
        "# Logical vector\n",
        "logical_vector <- c(TRUE, FALSE, TRUE, FALSE)\n",
        "print(logical_vector)\n",
        "print(class(logical_vector))"
      ],
      "metadata": {
        "colab": {
          "base_uri": "https://localhost:8080/"
        },
        "id": "r9LaNnR0fEEK",
        "outputId": "a55c15bc-4735-457d-f8b5-2737254568ca"
      },
      "execution_count": null,
      "outputs": [
        {
          "output_type": "stream",
          "name": "stdout",
          "text": [
            "[1]  TRUE FALSE  TRUE FALSE\n",
            "[1] \"logical\"\n"
          ]
        }
      ]
    },
    {
      "cell_type": "code",
      "source": [
        "# Vector from 1 to 10\n",
        "sequence_vector <- 1:10\n",
        "print(sequence_vector)\n"
      ],
      "metadata": {
        "colab": {
          "base_uri": "https://localhost:8080/"
        },
        "id": "Silqpa_AfHiB",
        "outputId": "05bd47be-aa2d-4b7b-b21c-86c67b1112a8"
      },
      "execution_count": null,
      "outputs": [
        {
          "output_type": "stream",
          "name": "stdout",
          "text": [
            " [1]  1  2  3  4  5  6  7  8  9 10\n"
          ]
        }
      ]
    },
    {
      "cell_type": "markdown",
      "source": [
        "**lists**"
      ],
      "metadata": {
        "id": "NgyUcTmJfKlP"
      }
    },
    {
      "cell_type": "code",
      "source": [
        "# lists\n",
        "my_list <- list(\n",
        "  name = \"John Doe\",\n",
        "  age = 30,\n",
        "  city = \"New York\",\n",
        "  is_student = FALSE,\n",
        "  grades = c(85, 90, 78)\n",
        ")\n",
        "print(my_list)"
      ],
      "metadata": {
        "colab": {
          "base_uri": "https://localhost:8080/"
        },
        "id": "Rnk55mrmfIUj",
        "outputId": "0f7aeedd-341c-47b6-ca25-62baf8191c18"
      },
      "execution_count": null,
      "outputs": [
        {
          "output_type": "stream",
          "name": "stdout",
          "text": [
            "$name\n",
            "[1] \"John Doe\"\n",
            "\n",
            "$age\n",
            "[1] 30\n",
            "\n",
            "$city\n",
            "[1] \"New York\"\n",
            "\n",
            "$is_student\n",
            "[1] FALSE\n",
            "\n",
            "$grades\n",
            "[1] 85 90 78\n",
            "\n"
          ]
        }
      ]
    },
    {
      "cell_type": "code",
      "source": [
        "# Access the age element\n",
        "my_list[[\"age\"]]"
      ],
      "metadata": {
        "colab": {
          "base_uri": "https://localhost:8080/",
          "height": 34
        },
        "id": "6cMep-S0fNSw",
        "outputId": "35818f44-37fe-45db-c4fa-eac93286fe08"
      },
      "execution_count": null,
      "outputs": [
        {
          "output_type": "display_data",
          "data": {
            "text/html": [
              "30"
            ],
            "text/markdown": "30",
            "text/latex": "30",
            "text/plain": [
              "[1] 30"
            ]
          },
          "metadata": {}
        }
      ]
    },
    {
      "cell_type": "code",
      "source": [
        "# Change the city\n",
        "my_list[[\"city\"]] <- \"mdh\""
      ],
      "metadata": {
        "id": "rRt--XJdfPN8"
      },
      "execution_count": null,
      "outputs": []
    },
    {
      "cell_type": "code",
      "source": [
        "# nested list\n",
        "nested_list <- list(\n",
        "  person1 = list(\n",
        "    name = \"Alice\",\n",
        "    age = 25\n",
        "  ),\n",
        "  person2 = list(\n",
        "    name = \"Bob\",\n",
        "    age = 32\n",
        "  )\n",
        ")\n",
        "print(nested_list)"
      ],
      "metadata": {
        "colab": {
          "base_uri": "https://localhost:8080/"
        },
        "id": "t6G0YcOyfRTv",
        "outputId": "c625736b-9e6f-4a19-d322-6d7b5af5eb5b"
      },
      "execution_count": null,
      "outputs": [
        {
          "output_type": "stream",
          "name": "stdout",
          "text": [
            "$person1\n",
            "$person1$name\n",
            "[1] \"Alice\"\n",
            "\n",
            "$person1$age\n",
            "[1] 25\n",
            "\n",
            "\n",
            "$person2\n",
            "$person2$name\n",
            "[1] \"Bob\"\n",
            "\n",
            "$person2$age\n",
            "[1] 32\n",
            "\n",
            "\n"
          ]
        }
      ]
    },
    {
      "cell_type": "markdown",
      "source": [
        "**matrices**"
      ],
      "metadata": {
        "id": "QadU4hTmfVFk"
      }
    },
    {
      "cell_type": "code",
      "source": [
        "# Create a 3x3 matrix\n",
        "my_matrix <- matrix(c(1, 2, 3, 4, 5, 6, 7, 8, 9), nrow = 3, ncol = 3)\n",
        "print(my_matrix)"
      ],
      "metadata": {
        "colab": {
          "base_uri": "https://localhost:8080/"
        },
        "id": "2G-B_jXzfTcR",
        "outputId": "92d6b919-586e-46dc-ebc3-c7800c22903e"
      },
      "execution_count": null,
      "outputs": [
        {
          "output_type": "stream",
          "name": "stdout",
          "text": [
            "     [,1] [,2] [,3]\n",
            "[1,]    1    4    7\n",
            "[2,]    2    5    8\n",
            "[3,]    3    6    9\n"
          ]
        }
      ]
    },
    {
      "cell_type": "code",
      "source": [
        "# rows of matrix\n",
        "nrow(my_matrix)"
      ],
      "metadata": {
        "colab": {
          "base_uri": "https://localhost:8080/",
          "height": 34
        },
        "id": "vAOiJG17fbhe",
        "outputId": "87cc4f64-0b4b-4ef5-edf7-74d043410b8e"
      },
      "execution_count": null,
      "outputs": [
        {
          "output_type": "display_data",
          "data": {
            "text/html": [
              "3"
            ],
            "text/markdown": "3",
            "text/latex": "3",
            "text/plain": [
              "[1] 3"
            ]
          },
          "metadata": {}
        }
      ]
    },
    {
      "cell_type": "code",
      "source": [
        "# dim of matrix\n",
        "dim(my_matrix)"
      ],
      "metadata": {
        "colab": {
          "base_uri": "https://localhost:8080/",
          "height": 34
        },
        "id": "dQSkxdT7fejd",
        "outputId": "026f65ee-b806-4b1b-a4de-28662b11715d"
      },
      "execution_count": null,
      "outputs": [
        {
          "output_type": "display_data",
          "data": {
            "text/html": [
              "<style>\n",
              ".list-inline {list-style: none; margin:0; padding: 0}\n",
              ".list-inline>li {display: inline-block}\n",
              ".list-inline>li:not(:last-child)::after {content: \"\\00b7\"; padding: 0 .5ex}\n",
              "</style>\n",
              "<ol class=list-inline><li>3</li><li>3</li></ol>\n"
            ],
            "text/markdown": "1. 3\n2. 3\n\n\n",
            "text/latex": "\\begin{enumerate*}\n\\item 3\n\\item 3\n\\end{enumerate*}\n",
            "text/plain": [
              "[1] 3 3"
            ]
          },
          "metadata": {}
        }
      ]
    },
    {
      "cell_type": "code",
      "source": [
        "# Access the entire second row\n",
        "my_matrix[2, ]\n"
      ],
      "metadata": {
        "colab": {
          "base_uri": "https://localhost:8080/",
          "height": 34
        },
        "id": "heHGN8qHfhEA",
        "outputId": "6a51d3c5-51e0-453f-f59e-51081d35aaaf"
      },
      "execution_count": null,
      "outputs": [
        {
          "output_type": "display_data",
          "data": {
            "text/html": [
              "<style>\n",
              ".list-inline {list-style: none; margin:0; padding: 0}\n",
              ".list-inline>li {display: inline-block}\n",
              ".list-inline>li:not(:last-child)::after {content: \"\\00b7\"; padding: 0 .5ex}\n",
              "</style>\n",
              "<ol class=list-inline><li>2</li><li>5</li><li>8</li></ol>\n"
            ],
            "text/markdown": "1. 2\n2. 5\n3. 8\n\n\n",
            "text/latex": "\\begin{enumerate*}\n\\item 2\n\\item 5\n\\item 8\n\\end{enumerate*}\n",
            "text/plain": [
              "[1] 2 5 8"
            ]
          },
          "metadata": {}
        }
      ]
    },
    {
      "cell_type": "code",
      "source": [
        "# Create a 2x4 matrix with data filled by row\n",
        "my_matrix2 <- matrix(c(1, 2, 3, 4, 5, 6, 7, 8), nrow = 2, ncol = 4, byrow = TRUE)\n",
        "print(my_matrix2)"
      ],
      "metadata": {
        "colab": {
          "base_uri": "https://localhost:8080/"
        },
        "id": "jJ1Px4HOfi-s",
        "outputId": "b4275d11-4158-46d2-fd71-f0df67a6997b"
      },
      "execution_count": null,
      "outputs": [
        {
          "output_type": "stream",
          "name": "stdout",
          "text": [
            "     [,1] [,2] [,3] [,4]\n",
            "[1,]    1    2    3    4\n",
            "[2,]    5    6    7    8\n"
          ]
        }
      ]
    },
    {
      "cell_type": "code",
      "source": [
        "# Create a 3x3 matrix\n",
        "my_matrix <- matrix(c(1, 2, 3, 4, 5, 6, 7, 8, 9), nrow = 3, ncol = 3)\n",
        "print(my_matrix)\n",
        "\n",
        "# Create a matrix with compatible dimensions for addition (e.g., 3x3)\n",
        "my_matrix2 <- matrix(c(1, 2, 3, 4, 5, 6, 7, 8, 9), nrow = 3, ncol = 3)\n",
        "print(my_matrix2)\n",
        "\n",
        "# Add two matrices (Now with compatible dimensions)\n",
        "sum_matrix <- my_matrix + my_matrix2\n",
        "print(sum_matrix)"
      ],
      "metadata": {
        "colab": {
          "base_uri": "https://localhost:8080/"
        },
        "id": "4Xso3N0efkuk",
        "outputId": "81a9f7e5-10fa-454f-c003-5d81320e33cd"
      },
      "execution_count": null,
      "outputs": [
        {
          "output_type": "stream",
          "name": "stdout",
          "text": [
            "     [,1] [,2] [,3]\n",
            "[1,]    1    4    7\n",
            "[2,]    2    5    8\n",
            "[3,]    3    6    9\n",
            "     [,1] [,2] [,3]\n",
            "[1,]    1    4    7\n",
            "[2,]    2    5    8\n",
            "[3,]    3    6    9\n",
            "     [,1] [,2] [,3]\n",
            "[1,]    2    8   14\n",
            "[2,]    4   10   16\n",
            "[3,]    6   12   18\n"
          ]
        }
      ]
    },
    {
      "cell_type": "markdown",
      "source": [
        "**creating** **factor**"
      ],
      "metadata": {
        "id": "NVr_bolDfnbX"
      }
    },
    {
      "cell_type": "code",
      "source": [
        "# Create a vector of colors\n",
        "colors <- c(\"red\", \"blue\", \"green\", \"red\", \"blue\", \"green\")"
      ],
      "metadata": {
        "id": "fQHgf_d0frGS"
      },
      "execution_count": null,
      "outputs": []
    },
    {
      "cell_type": "code",
      "source": [
        "# Convert the vector to a factor\n",
        "color_factor <- factor(colors)\n"
      ],
      "metadata": {
        "id": "fR73c8g7ftwn"
      },
      "execution_count": null,
      "outputs": []
    },
    {
      "cell_type": "code",
      "source": [
        "# Print the factor\n",
        "print(color_factor)\n"
      ],
      "metadata": {
        "colab": {
          "base_uri": "https://localhost:8080/"
        },
        "id": "AX1Pwi_GfveB",
        "outputId": "f08fea0f-6f41-43d6-ccc9-3dda72beae22"
      },
      "execution_count": null,
      "outputs": [
        {
          "output_type": "stream",
          "name": "stdout",
          "text": [
            "[1] red   blue  green red   blue  green\n",
            "Levels: blue green red\n"
          ]
        }
      ]
    },
    {
      "cell_type": "code",
      "source": [
        "# View the levels of the factor\n",
        "levels(color_factor)"
      ],
      "metadata": {
        "colab": {
          "base_uri": "https://localhost:8080/",
          "height": 34
        },
        "id": "e7jBBfhafzX3",
        "outputId": "d163bb70-b29a-4974-8427-107f8689bc0a"
      },
      "execution_count": null,
      "outputs": [
        {
          "output_type": "display_data",
          "data": {
            "text/html": [
              "<style>\n",
              ".list-inline {list-style: none; margin:0; padding: 0}\n",
              ".list-inline>li {display: inline-block}\n",
              ".list-inline>li:not(:last-child)::after {content: \"\\00b7\"; padding: 0 .5ex}\n",
              "</style>\n",
              "<ol class=list-inline><li>'blue'</li><li>'green'</li><li>'red'</li></ol>\n"
            ],
            "text/markdown": "1. 'blue'\n2. 'green'\n3. 'red'\n\n\n",
            "text/latex": "\\begin{enumerate*}\n\\item 'blue'\n\\item 'green'\n\\item 'red'\n\\end{enumerate*}\n",
            "text/plain": [
              "[1] \"blue\"  \"green\" \"red\"  "
            ]
          },
          "metadata": {}
        }
      ]
    },
    {
      "cell_type": "markdown",
      "source": [
        "**data frame**"
      ],
      "metadata": {
        "id": "HbTzOfU9f23Y"
      }
    },
    {
      "cell_type": "code",
      "source": [
        "#  Data Frame\n",
        "student_names <- c(\"Alice\", \"Bob\", \"Charlie\")\n",
        "student_ages <- c(20, 22, 19)\n",
        "student_grades <- c(85, 90, 78)"
      ],
      "metadata": {
        "id": "gSshDPmFf1cW"
      },
      "execution_count": null,
      "outputs": []
    },
    {
      "cell_type": "code",
      "source": [
        "# Create a data frame\n",
        "student_data <- data.frame(\n",
        "  Name = student_names,\n",
        "  Age = student_ages,\n",
        "  Grade = student_grades\n",
        ")\n"
      ],
      "metadata": {
        "id": "hGCYE9qMf5l_"
      },
      "execution_count": null,
      "outputs": []
    },
    {
      "cell_type": "code",
      "source": [
        "# Print the data frame\n",
        "print(student_data)"
      ],
      "metadata": {
        "colab": {
          "base_uri": "https://localhost:8080/"
        },
        "id": "uWlcx9ymf76k",
        "outputId": "b64d0b4c-5317-4b44-feb1-92794397e11d"
      },
      "execution_count": null,
      "outputs": [
        {
          "output_type": "stream",
          "name": "stdout",
          "text": [
            "     Name Age Grade\n",
            "1   Alice  20    85\n",
            "2     Bob  22    90\n",
            "3 Charlie  19    78\n"
          ]
        }
      ]
    },
    {
      "cell_type": "code",
      "source": [
        "# Access specific columns\n",
        "print(student_data$Name)\n",
        "print(student_data[ , \"Age\"])"
      ],
      "metadata": {
        "colab": {
          "base_uri": "https://localhost:8080/"
        },
        "id": "-A-K70a2f9yi",
        "outputId": "b2738099-6ecd-4ded-a690-8d77cdd30705"
      },
      "execution_count": null,
      "outputs": [
        {
          "output_type": "stream",
          "name": "stdout",
          "text": [
            "[1] \"Alice\"   \"Bob\"     \"Charlie\"\n",
            "[1] 20 22 19\n"
          ]
        }
      ]
    },
    {
      "cell_type": "code",
      "source": [
        "# Summary of the data frame\n",
        "summary(student_data)"
      ],
      "metadata": {
        "colab": {
          "base_uri": "https://localhost:8080/",
          "height": 138
        },
        "id": "TVo2ohkMgABJ",
        "outputId": "0e02e275-baae-4e29-a75d-593b95a50fa3"
      },
      "execution_count": null,
      "outputs": [
        {
          "output_type": "display_data",
          "data": {
            "text/plain": [
              "     Name                Age            Grade      \n",
              " Length:3           Min.   :19.00   Min.   :78.00  \n",
              " Class :character   1st Qu.:19.50   1st Qu.:81.50  \n",
              " Mode  :character   Median :20.00   Median :85.00  \n",
              "                    Mean   :20.33   Mean   :84.33  \n",
              "                    3rd Qu.:21.00   3rd Qu.:87.50  \n",
              "                    Max.   :22.00   Max.   :90.00  "
            ]
          },
          "metadata": {}
        }
      ]
    },
    {
      "cell_type": "markdown",
      "source": [
        "**Arrays**"
      ],
      "metadata": {
        "id": "3lxzVuOPgDb1"
      }
    },
    {
      "cell_type": "code",
      "source": [
        "# Create a 3-dimensional array\n",
        "my_array <- array(1:24, dim = c(2, 3, 4))"
      ],
      "metadata": {
        "id": "Sh7VEIBWgB3z"
      },
      "execution_count": null,
      "outputs": []
    },
    {
      "cell_type": "code",
      "source": [
        "# Print the array\n",
        "print(my_array)"
      ],
      "metadata": {
        "colab": {
          "base_uri": "https://localhost:8080/"
        },
        "id": "J4By_z9KgH26",
        "outputId": "2824b408-3bfa-418f-d4dc-cae2af942794"
      },
      "execution_count": null,
      "outputs": [
        {
          "output_type": "stream",
          "name": "stdout",
          "text": [
            ", , 1\n",
            "\n",
            "     [,1] [,2] [,3]\n",
            "[1,]    1    3    5\n",
            "[2,]    2    4    6\n",
            "\n",
            ", , 2\n",
            "\n",
            "     [,1] [,2] [,3]\n",
            "[1,]    7    9   11\n",
            "[2,]    8   10   12\n",
            "\n",
            ", , 3\n",
            "\n",
            "     [,1] [,2] [,3]\n",
            "[1,]   13   15   17\n",
            "[2,]   14   16   18\n",
            "\n",
            ", , 4\n",
            "\n",
            "     [,1] [,2] [,3]\n",
            "[1,]   19   21   23\n",
            "[2,]   20   22   24\n",
            "\n"
          ]
        }
      ]
    },
    {
      "cell_type": "code",
      "source": [
        "# adding two vectors\n",
        "vector1 <- c(1, 2, 3)\n",
        "vector2 <- c(4, 5, 6)"
      ],
      "metadata": {
        "id": "z7kDRlS0gJ43"
      },
      "execution_count": null,
      "outputs": []
    },
    {
      "cell_type": "code",
      "source": [
        "# Add the vectors\n",
        "result_vector <- vector1 + vector2"
      ],
      "metadata": {
        "id": "jlGeUP3ugNOC"
      },
      "execution_count": null,
      "outputs": []
    },
    {
      "cell_type": "code",
      "source": [
        "# Print the result\n",
        "print(result_vector)"
      ],
      "metadata": {
        "colab": {
          "base_uri": "https://localhost:8080/"
        },
        "id": "ia8kvofCgOEw",
        "outputId": "dfc4030d-8e48-404c-f372-ab0f9b33d16b"
      },
      "execution_count": null,
      "outputs": [
        {
          "output_type": "stream",
          "name": "stdout",
          "text": [
            "[1] 5 7 9\n"
          ]
        }
      ]
    },
    {
      "cell_type": "code",
      "source": [
        "# Define the vectors\n",
        "vector1 <- c(10, 15, 20, 5)\n",
        "vector2 <- c(3, 5, 7, 2)"
      ],
      "metadata": {
        "id": "MzGYM8GTgQ3w"
      },
      "execution_count": null,
      "outputs": []
    },
    {
      "cell_type": "code",
      "source": [
        "# Calculate the remainder using the modulus operator (%%)\n",
        "remainder <- vector1 %% vector2"
      ],
      "metadata": {
        "id": "Vs1-QsXRgSR9"
      },
      "execution_count": null,
      "outputs": []
    },
    {
      "cell_type": "code",
      "source": [
        "# Print the result\n",
        "print(remainder)"
      ],
      "metadata": {
        "colab": {
          "base_uri": "https://localhost:8080/"
        },
        "id": "txaFr78KgS9J",
        "outputId": "049dfa83-b818-4e1d-b942-a426e73265d4"
      },
      "execution_count": null,
      "outputs": [
        {
          "output_type": "stream",
          "name": "stdout",
          "text": [
            "[1] 1 0 6 1\n"
          ]
        }
      ]
    }
  ]
}