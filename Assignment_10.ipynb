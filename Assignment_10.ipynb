{
  "nbformat": 4,
  "nbformat_minor": 0,
  "metadata": {
    "colab": {
      "provenance": [],
      "authorship_tag": "ABX9TyMlvMh9jeN0m673+ekIHatn",
      "include_colab_link": true
    },
    "kernelspec": {
      "name": "ir",
      "display_name": "R"
    },
    "language_info": {
      "name": "R"
    }
  },
  "cells": [
    {
      "cell_type": "markdown",
      "metadata": {
        "id": "view-in-github",
        "colab_type": "text"
      },
      "source": [
        "<a href=\"https://colab.research.google.com/github/narendra7959/R-Practicals/blob/main/Assignment_10.ipynb\" target=\"_parent\"><img src=\"https://colab.research.google.com/assets/colab-badge.svg\" alt=\"Open In Colab\"/></a>"
      ]
    },
    {
      "cell_type": "markdown",
      "source": [
        "**readr, purr, tibble**"
      ],
      "metadata": {
        "id": "w7fkGSDiIqgY"
      }
    },
    {
      "cell_type": "code",
      "execution_count": 1,
      "metadata": {
        "id": "t-jmEgQwIiNz"
      },
      "outputs": [],
      "source": [
        "# Name : Narendra\n",
        "# Rsg No : 24040208002"
      ]
    },
    {
      "cell_type": "code",
      "source": [
        "# install necessary libraries\n",
        "install.packages('readr')\n",
        "install.packages('purrr')\n",
        "install.packages('tibble')\n",
        "install.packages('dplyr')"
      ],
      "metadata": {
        "colab": {
          "base_uri": "https://localhost:8080/"
        },
        "id": "ApDfDSMCI04-",
        "outputId": "087b64af-e984-474b-aa79-ed889af7ee2b"
      },
      "execution_count": 2,
      "outputs": [
        {
          "output_type": "stream",
          "name": "stderr",
          "text": [
            "Installing package into ‘/usr/local/lib/R/site-library’\n",
            "(as ‘lib’ is unspecified)\n",
            "\n",
            "Installing package into ‘/usr/local/lib/R/site-library’\n",
            "(as ‘lib’ is unspecified)\n",
            "\n",
            "Installing package into ‘/usr/local/lib/R/site-library’\n",
            "(as ‘lib’ is unspecified)\n",
            "\n",
            "Installing package into ‘/usr/local/lib/R/site-library’\n",
            "(as ‘lib’ is unspecified)\n",
            "\n"
          ]
        }
      ]
    },
    {
      "cell_type": "code",
      "source": [
        "# Load necessary libraries\n",
        "library(readr)\n",
        "library(purrr)\n",
        "library(tibble)\n",
        "library(dplyr)"
      ],
      "metadata": {
        "colab": {
          "base_uri": "https://localhost:8080/"
        },
        "id": "o2MJ4E6CKedZ",
        "outputId": "f876d6d7-781b-47aa-9d83-8d2c0974fb9a"
      },
      "execution_count": 8,
      "outputs": [
        {
          "output_type": "stream",
          "name": "stderr",
          "text": [
            "\n",
            "Attaching package: ‘dplyr’\n",
            "\n",
            "\n",
            "The following objects are masked from ‘package:stats’:\n",
            "\n",
            "    filter, lag\n",
            "\n",
            "\n",
            "The following objects are masked from ‘package:base’:\n",
            "\n",
            "    intersect, setdiff, setequal, union\n",
            "\n",
            "\n"
          ]
        }
      ]
    },
    {
      "cell_type": "code",
      "source": [
        "# Create a dataset containing student names and their scores in different subjects\n",
        "students <- tibble(\n",
        "  name = c(\"Alice\", \"Bob\", \"Charlie\", \"David\", \"Sophia\"),  # List of student names\n",
        "  math_score = c(85, 60, 78, 50, 88),  # Math scores for each student\n",
        "  science_score = c(90, 65, 80, 55, 92),  # Science scores for each student\n",
        "  english_score = c(82, 70, 85, 48, 89)  # English scores for each student\n",
        ")\n",
        "\n",
        "# Export the student data as a CSV file for analysis\n",
        "write_csv(students, \"/content/student_scores.csv\")"
      ],
      "metadata": {
        "id": "7OeTfw28Kkjy"
      },
      "execution_count": 15,
      "outputs": []
    },
    {
      "cell_type": "code",
      "source": [
        "# Step 1: Read the data from the CSV file into a tibble\n",
        "students_data <- read_csv(\"/content/student_scores.csv\") %>%\n",
        "  as_tibble()\n",
        "\n",
        "# Print the data to see the structure\n",
        "print(students_data)\n",
        "\n",
        "# Step 2: Calculate total scores for each student\n",
        "students_data <- students_data %>%\n",
        "  mutate(\n",
        "    total_score = math_score + science_score + english_score\n",
        "  )\n",
        "\n",
        "# Step 3: Apply a function to determine if the student passed (Total score > 240)\n",
        "# Let's assume a passing score is 240 for simplicity.\n",
        "students_data <- students_data %>%\n",
        "  mutate(\n",
        "    pass_status = map_chr(total_score, ~ ifelse(.x > 240, \"Pass\", \"Fail\"))\n",
        "  )\n",
        "\n",
        "# Step 4: View the final tibble\n",
        "print(students_data)\n"
      ],
      "metadata": {
        "colab": {
          "base_uri": "https://localhost:8080/"
        },
        "id": "nM5OQMfXL4QC",
        "outputId": "8b680f58-ece1-4a16-8a05-77e7e52a542b"
      },
      "execution_count": 16,
      "outputs": [
        {
          "output_type": "stream",
          "name": "stderr",
          "text": [
            "\u001b[1mRows: \u001b[22m\u001b[34m5\u001b[39m \u001b[1mColumns: \u001b[22m\u001b[34m4\u001b[39m\n",
            "\u001b[36m──\u001b[39m \u001b[1mColumn specification\u001b[22m \u001b[36m────────────────────────────────────────────────────────\u001b[39m\n",
            "\u001b[1mDelimiter:\u001b[22m \",\"\n",
            "\u001b[31mchr\u001b[39m (1): name\n",
            "\u001b[32mdbl\u001b[39m (3): math_score, science_score, english_score\n",
            "\n",
            "\u001b[36mℹ\u001b[39m Use `spec()` to retrieve the full column specification for this data.\n",
            "\u001b[36mℹ\u001b[39m Specify the column types or set `show_col_types = FALSE` to quiet this message.\n"
          ]
        },
        {
          "output_type": "stream",
          "name": "stdout",
          "text": [
            "\u001b[90m# A tibble: 5 × 4\u001b[39m\n",
            "  name    math_score science_score english_score\n",
            "  \u001b[3m\u001b[90m<chr>\u001b[39m\u001b[23m        \u001b[3m\u001b[90m<dbl>\u001b[39m\u001b[23m         \u001b[3m\u001b[90m<dbl>\u001b[39m\u001b[23m         \u001b[3m\u001b[90m<dbl>\u001b[39m\u001b[23m\n",
            "\u001b[90m1\u001b[39m Alice           85            90            82\n",
            "\u001b[90m2\u001b[39m Bob             60            65            70\n",
            "\u001b[90m3\u001b[39m Charlie         78            80            85\n",
            "\u001b[90m4\u001b[39m David           50            55            48\n",
            "\u001b[90m5\u001b[39m Sophia          88            92            89\n",
            "\u001b[90m# A tibble: 5 × 6\u001b[39m\n",
            "  name    math_score science_score english_score total_score pass_status\n",
            "  \u001b[3m\u001b[90m<chr>\u001b[39m\u001b[23m        \u001b[3m\u001b[90m<dbl>\u001b[39m\u001b[23m         \u001b[3m\u001b[90m<dbl>\u001b[39m\u001b[23m         \u001b[3m\u001b[90m<dbl>\u001b[39m\u001b[23m       \u001b[3m\u001b[90m<dbl>\u001b[39m\u001b[23m \u001b[3m\u001b[90m<chr>\u001b[39m\u001b[23m      \n",
            "\u001b[90m1\u001b[39m Alice           85            90            82         257 Pass       \n",
            "\u001b[90m2\u001b[39m Bob             60            65            70         195 Fail       \n",
            "\u001b[90m3\u001b[39m Charlie         78            80            85         243 Pass       \n",
            "\u001b[90m4\u001b[39m David           50            55            48         153 Fail       \n",
            "\u001b[90m5\u001b[39m Sophia          88            92            89         269 Pass       \n"
          ]
        }
      ]
    }
  ]
}