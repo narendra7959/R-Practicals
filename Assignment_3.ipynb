{
  "nbformat": 4,
  "nbformat_minor": 0,
  "metadata": {
    "colab": {
      "provenance": []
    },
    "kernelspec": {
      "name": "ir",
      "display_name": "R"
    },
    "language_info": {
      "name": "R"
    }
  },
  "cells": [
    {
      "cell_type": "code",
      "source": [
        "# Create a vector\n",
        "my_vector <- c(1, 2, 3, 4, 5)\n",
        "print(my_vector)\n"
      ],
      "metadata": {
        "colab": {
          "base_uri": "https://localhost:8080/"
        },
        "id": "3YcXxzNPRJHD",
        "outputId": "21b91100-dd0e-49c2-b67d-e681007379be"
      },
      "execution_count": null,
      "outputs": [
        {
          "output_type": "stream",
          "name": "stdout",
          "text": [
            "[1] 1 2 3 4 5\n"
          ]
        }
      ]
    },
    {
      "cell_type": "code",
      "source": [
        "# Generate sequences\n",
        "my_seq <- seq(1, 10, by = 2)\n",
        "print(my_seq)\n"
      ],
      "metadata": {
        "colab": {
          "base_uri": "https://localhost:8080/"
        },
        "id": "bakyaLIjRNcU",
        "outputId": "6aa3366f-8044-4bb4-ffb0-d15e6e78a838"
      },
      "execution_count": null,
      "outputs": [
        {
          "output_type": "stream",
          "name": "stdout",
          "text": [
            "[1] 1 3 5 7 9\n"
          ]
        }
      ]
    },
    {
      "cell_type": "code",
      "source": [
        "# Repeat elements\n",
        "my_rep <- rep(1:3, times = 2)\n",
        "print(my_rep)"
      ],
      "metadata": {
        "colab": {
          "base_uri": "https://localhost:8080/"
        },
        "id": "0iPTTqF3RkxF",
        "outputId": "e15a9b01-97a1-4e9a-925a-e7ec539bf64f"
      },
      "execution_count": null,
      "outputs": [
        {
          "output_type": "stream",
          "name": "stdout",
          "text": [
            "[1] 1 2 3 1 2 3\n"
          ]
        }
      ]
    },
    {
      "cell_type": "code",
      "source": [
        "# Get vector length\n",
        "len <- length(my_vector)\n",
        "print(len)"
      ],
      "metadata": {
        "colab": {
          "base_uri": "https://localhost:8080/"
        },
        "id": "zHSMeoamRqca",
        "outputId": "e620d7c4-8535-4b16-a94f-d34a9783fa49"
      },
      "execution_count": null,
      "outputs": [
        {
          "output_type": "stream",
          "name": "stdout",
          "text": [
            "[1] 5\n"
          ]
        }
      ]
    },
    {
      "cell_type": "code",
      "source": [
        "# Sort values\n",
        "sorted_vec <- sort(c(5, 3, 8, 1))\n",
        "print(sorted_vec)"
      ],
      "metadata": {
        "colab": {
          "base_uri": "https://localhost:8080/"
        },
        "id": "93109R_-R26W",
        "outputId": "5d0bc2b0-900f-49f0-a983-42a81d048d4f"
      },
      "execution_count": null,
      "outputs": [
        {
          "output_type": "stream",
          "name": "stdout",
          "text": [
            "[1] 1 3 5 8\n"
          ]
        }
      ]
    },
    {
      "cell_type": "code",
      "source": [
        "# Get ordering index\n",
        "order_idx <- order(c(5, 3, 8, 1))\n",
        "print(order_idx)"
      ],
      "metadata": {
        "colab": {
          "base_uri": "https://localhost:8080/"
        },
        "id": "jVNIATdIR9km",
        "outputId": "db468231-65a2-424c-a8cc-eba69f41c7e5"
      },
      "execution_count": null,
      "outputs": [
        {
          "output_type": "stream",
          "name": "stdout",
          "text": [
            "[1] 4 2 1 3\n"
          ]
        }
      ]
    },
    {
      "cell_type": "code",
      "source": [
        "# Reverse elements\n",
        "reversed_vec <- rev(c(1, 2, 3, 4, 5))\n",
        "print(reversed_vec)"
      ],
      "metadata": {
        "colab": {
          "base_uri": "https://localhost:8080/"
        },
        "id": "FKheFE9uSEK0",
        "outputId": "9373c3db-c973-4082-8c6f-a031799612cd"
      },
      "execution_count": null,
      "outputs": [
        {
          "output_type": "stream",
          "name": "stdout",
          "text": [
            "[1] 5 4 3 2 1\n"
          ]
        }
      ]
    },
    {
      "cell_type": "code",
      "source": [
        "# Find unique values\n",
        "unique_vals <- unique(c(1, 2, 2, 3, 4, 4))\n",
        "print(unique_vals)"
      ],
      "metadata": {
        "colab": {
          "base_uri": "https://localhost:8080/"
        },
        "id": "4E8lr8BnSKOP",
        "outputId": "13271279-95a6-40d7-9f20-03cd84e14353"
      },
      "execution_count": null,
      "outputs": [
        {
          "output_type": "stream",
          "name": "stdout",
          "text": [
            "[1] 1 2 3 4\n"
          ]
        }
      ]
    },
    {
      "cell_type": "code",
      "source": [
        "# Frequency table\n",
        "freq_table <- table(c(1, 2, 2, 3, 3, 3))\n",
        "print(freq_table)"
      ],
      "metadata": {
        "colab": {
          "base_uri": "https://localhost:8080/"
        },
        "id": "YSXzM0ywSPww",
        "outputId": "6b3baa33-2f8b-413a-ed65-f6970368a60e"
      },
      "execution_count": null,
      "outputs": [
        {
          "output_type": "stream",
          "name": "stdout",
          "text": [
            "\n",
            "1 2 3 \n",
            "1 2 3 \n"
          ]
        }
      ]
    },
    {
      "cell_type": "code",
      "source": [
        "# Find indices of matching values\n",
        "match_idx <- match(2, c(1, 2, 3, 4))\n",
        "print(match_idx)"
      ],
      "metadata": {
        "colab": {
          "base_uri": "https://localhost:8080/"
        },
        "id": "jKlpQu9nSVdQ",
        "outputId": "338b8268-170d-4c88-bd1b-16f45e249f8b"
      },
      "execution_count": null,
      "outputs": [
        {
          "output_type": "stream",
          "name": "stdout",
          "text": [
            "[1] 2\n"
          ]
        }
      ]
    },
    {
      "cell_type": "code",
      "source": [
        "# Check if value exists in vector\n",
        "exists <- 2 %in% c(1, 2, 3, 4)\n",
        "print(exists)"
      ],
      "metadata": {
        "colab": {
          "base_uri": "https://localhost:8080/"
        },
        "id": "gfYHnWIESbJK",
        "outputId": "4fb2dab0-3d08-4ad5-a184-558191e2fc8d"
      },
      "execution_count": null,
      "outputs": [
        {
          "output_type": "stream",
          "name": "stdout",
          "text": [
            "[1] TRUE\n"
          ]
        }
      ]
    },
    {
      "cell_type": "code",
      "source": [
        "# Find index of elements satisfying a condition\n",
        "which_vec <- which(c(1, 2, 3, 4) > 2)\n",
        "print(which_vec)"
      ],
      "metadata": {
        "colab": {
          "base_uri": "https://localhost:8080/"
        },
        "id": "TJmdkxBySgCM",
        "outputId": "dbfcad34-321b-47ad-df73-6c945bd4d869"
      },
      "execution_count": null,
      "outputs": [
        {
          "output_type": "stream",
          "name": "stdout",
          "text": [
            "[1] 3 4\n"
          ]
        }
      ]
    },
    {
      "cell_type": "code",
      "source": [
        "#  Check if any value is TRUE\n",
        "any_true <- any(c(FALSE, TRUE, FALSE))\n",
        "print(any_true)"
      ],
      "metadata": {
        "colab": {
          "base_uri": "https://localhost:8080/"
        },
        "id": "KZgoHce0SlP7",
        "outputId": "1d057756-9012-48e8-ac0b-160191ca519d"
      },
      "execution_count": null,
      "outputs": [
        {
          "output_type": "stream",
          "name": "stdout",
          "text": [
            "[1] TRUE\n"
          ]
        }
      ]
    },
    {
      "cell_type": "code",
      "source": [
        "# Check if all values are TRUE\n",
        "all_true <- all(c(TRUE, TRUE, TRUE))\n",
        "print(all_true)"
      ],
      "metadata": {
        "colab": {
          "base_uri": "https://localhost:8080/"
        },
        "id": "CiwlyWl_SqRt",
        "outputId": "0df3aa61-3866-442a-fc78-35f88ca170f1"
      },
      "execution_count": null,
      "outputs": [
        {
          "output_type": "stream",
          "name": "stdout",
          "text": [
            "[1] TRUE\n"
          ]
        }
      ]
    },
    {
      "cell_type": "code",
      "source": [
        "# Check for missing values\n",
        "missing_vals <- is.na(c(1, 2, NA, 4))\n",
        "print(missing_vals)"
      ],
      "metadata": {
        "colab": {
          "base_uri": "https://localhost:8080/"
        },
        "id": "sY11uq09SusP",
        "outputId": "7eba464b-2e02-405e-97fb-efdd9612f094"
      },
      "execution_count": null,
      "outputs": [
        {
          "output_type": "stream",
          "name": "stdout",
          "text": [
            "[1] FALSE FALSE  TRUE FALSE\n"
          ]
        }
      ]
    },
    {
      "cell_type": "code",
      "source": [
        "#  Remove NA values\n",
        "clean_vec <- na.omit(c(1, 2, NA, 4))\n",
        "print(clean_vec)"
      ],
      "metadata": {
        "colab": {
          "base_uri": "https://localhost:8080/"
        },
        "id": "8RwxwBbDS7FV",
        "outputId": "b017449d-1ce8-4b45-f1b4-66502d9aef20"
      },
      "execution_count": null,
      "outputs": [
        {
          "output_type": "stream",
          "name": "stdout",
          "text": [
            "[1] 1 2 4\n",
            "attr(,\"na.action\")\n",
            "[1] 3\n",
            "attr(,\"class\")\n",
            "[1] \"omit\"\n"
          ]
        }
      ]
    },
    {
      "cell_type": "code",
      "source": [
        "#  Replace values in a vector\n",
        "replaced_vec <- replace(c(1, 2, 3), 2, 10)\n",
        "print(replaced_vec)"
      ],
      "metadata": {
        "colab": {
          "base_uri": "https://localhost:8080/"
        },
        "id": "2V0W9iVlTAiA",
        "outputId": "6068984b-ec9b-4028-b75a-05125f32b6fa"
      },
      "execution_count": null,
      "outputs": [
        {
          "output_type": "stream",
          "name": "stdout",
          "text": [
            "[1]  1 10  3\n"
          ]
        }
      ]
    },
    {
      "cell_type": "code",
      "source": [
        "#  Concatenate strings\n",
        "concatenated <- paste(\"Hello\", \"World\")\n",
        "print(concatenated)"
      ],
      "metadata": {
        "colab": {
          "base_uri": "https://localhost:8080/"
        },
        "id": "Gv_sjOWgTJpZ",
        "outputId": "2d5409e6-c344-4620-af30-6256f2b9b77d"
      },
      "execution_count": null,
      "outputs": [
        {
          "output_type": "stream",
          "name": "stdout",
          "text": [
            "[1] \"Hello World\"\n"
          ]
        }
      ]
    },
    {
      "cell_type": "code",
      "source": [
        "# Concatenate without spaces\n",
        "concatenated_no_space <- paste0(\"Hello\", \"World\")\n",
        "print(concatenated_no_space)"
      ],
      "metadata": {
        "colab": {
          "base_uri": "https://localhost:8080/"
        },
        "id": "kOQBlfsaTOfM",
        "outputId": "e7aa1365-b816-45a5-dbe3-eea2c60c0d94"
      },
      "execution_count": null,
      "outputs": [
        {
          "output_type": "stream",
          "name": "stdout",
          "text": [
            "[1] \"HelloWorld\"\n"
          ]
        }
      ]
    },
    {
      "cell_type": "code",
      "source": [
        "# Convert to uppercase\n",
        "upper_str <- toupper(\"hello\")\n",
        "print(upper_str)"
      ],
      "metadata": {
        "colab": {
          "base_uri": "https://localhost:8080/"
        },
        "id": "Qf9R9kMETVlh",
        "outputId": "7bbbeaf6-8ac0-4b2a-f56f-2834d1380f90"
      },
      "execution_count": null,
      "outputs": [
        {
          "output_type": "stream",
          "name": "stdout",
          "text": [
            "[1] \"HELLO\"\n"
          ]
        }
      ]
    },
    {
      "cell_type": "code",
      "source": [
        "# Convert to lowercase\n",
        "lower_str <- tolower(\"HELLO\")\n",
        "print(lower_str)"
      ],
      "metadata": {
        "colab": {
          "base_uri": "https://localhost:8080/"
        },
        "id": "hkLIE7PgTarw",
        "outputId": "43237028-9579-44f5-bf1f-80a861ef1274"
      },
      "execution_count": null,
      "outputs": [
        {
          "output_type": "stream",
          "name": "stdout",
          "text": [
            "[1] \"hello\"\n"
          ]
        }
      ]
    },
    {
      "cell_type": "code",
      "source": [
        "# Extract substring\n",
        "substring_str <- substr(\"Hello World\", 1, 5)\n",
        "print(substring_str)"
      ],
      "metadata": {
        "colab": {
          "base_uri": "https://localhost:8080/"
        },
        "id": "QJUKNUeUTfP2",
        "outputId": "3e6e064b-7815-4c0d-edaf-739be4f09a09"
      },
      "execution_count": null,
      "outputs": [
        {
          "output_type": "stream",
          "name": "stdout",
          "text": [
            "[1] \"Hello\"\n"
          ]
        }
      ]
    },
    {
      "cell_type": "code",
      "source": [
        "# Pattern matching\n",
        "grep_result <- grep(\"hello\", c(\"hello\", \"world\", \"hello world\"))\n",
        "print(grep_result)"
      ],
      "metadata": {
        "colab": {
          "base_uri": "https://localhost:8080/"
        },
        "id": "ZtsoRGJWTlT5",
        "outputId": "19af0663-f9fe-4e52-b24d-86bdfebc0e0f"
      },
      "execution_count": null,
      "outputs": [
        {
          "output_type": "stream",
          "name": "stdout",
          "text": [
            "[1] 1 3\n"
          ]
        }
      ]
    },
    {
      "cell_type": "code",
      "source": [
        "# Replace pattern\n",
        "replaced_str <- gsub(\"hello\", \"hi\", \"hello world\")\n",
        "print(replaced_str)"
      ],
      "metadata": {
        "colab": {
          "base_uri": "https://localhost:8080/"
        },
        "id": "G81jneoPTqYx",
        "outputId": "57308dbf-0507-41db-f6fa-dabbcc6d64a6"
      },
      "execution_count": null,
      "outputs": [
        {
          "output_type": "stream",
          "name": "stdout",
          "text": [
            "[1] \"hi world\"\n"
          ]
        }
      ]
    },
    {
      "cell_type": "code",
      "source": [
        "# Split strings\n",
        "split_str <- strsplit(\"Hello World\", \" \")\n",
        "print(split_str)"
      ],
      "metadata": {
        "colab": {
          "base_uri": "https://localhost:8080/"
        },
        "id": "jIGPiv4_Tu-m",
        "outputId": "accd19e2-d1e2-413d-d653-5be4a9dcbd93"
      },
      "execution_count": null,
      "outputs": [
        {
          "output_type": "stream",
          "name": "stdout",
          "text": [
            "[[1]]\n",
            "[1] \"Hello\" \"World\"\n",
            "\n"
          ]
        }
      ]
    },
    {
      "cell_type": "code",
      "source": [
        "# Convert to numeric\n",
        "numeric_val <- as.numeric(\"123.45\")\n",
        "print(numeric_val)"
      ],
      "metadata": {
        "colab": {
          "base_uri": "https://localhost:8080/"
        },
        "id": "86Ffe_dpTz8X",
        "outputId": "d261c500-a66b-4827-e6e0-66f6837d98ae"
      },
      "execution_count": null,
      "outputs": [
        {
          "output_type": "stream",
          "name": "stdout",
          "text": [
            "[1] 123.45\n"
          ]
        }
      ]
    },
    {
      "cell_type": "code",
      "source": [
        "# Convert to character\n",
        "char_val <- as.character(123)\n",
        "print(char_val)"
      ],
      "metadata": {
        "colab": {
          "base_uri": "https://localhost:8080/"
        },
        "id": "oPYGvceIT7Oh",
        "outputId": "23c265c4-b06b-43f7-89fe-cad76ecd8c01"
      },
      "execution_count": null,
      "outputs": [
        {
          "output_type": "stream",
          "name": "stdout",
          "text": [
            "[1] \"123\"\n"
          ]
        }
      ]
    },
    {
      "cell_type": "code",
      "source": [
        "# Convert to factor\n",
        "factor_val <- as.factor(c(\"low\", \"medium\", \"high\"))\n",
        "print(factor_val)"
      ],
      "metadata": {
        "colab": {
          "base_uri": "https://localhost:8080/"
        },
        "id": "K7TiVCgbUADz",
        "outputId": "ca55fa26-ad30-4acc-b1c2-0981930e9c1a"
      },
      "execution_count": null,
      "outputs": [
        {
          "output_type": "stream",
          "name": "stdout",
          "text": [
            "[1] low    medium high  \n",
            "Levels: high low medium\n"
          ]
        }
      ]
    },
    {
      "cell_type": "code",
      "source": [
        "#  Convert to date\n",
        "date_val <- as.Date(\"2025-02-03\")\n",
        "print(date_val)"
      ],
      "metadata": {
        "colab": {
          "base_uri": "https://localhost:8080/"
        },
        "id": "GLskmF2zUFEo",
        "outputId": "737a8fe6-dc37-4062-d679-65ed76c8f92f"
      },
      "execution_count": null,
      "outputs": [
        {
          "output_type": "stream",
          "name": "stdout",
          "text": [
            "[1] \"2025-02-03\"\n"
          ]
        }
      ]
    },
    {
      "cell_type": "code",
      "source": [
        "# Get current date\n",
        "current_date <- Sys.Date()\n",
        "print(current_date)"
      ],
      "metadata": {
        "colab": {
          "base_uri": "https://localhost:8080/"
        },
        "id": "ZxBuiXOUUKuS",
        "outputId": "0794c06d-67eb-4d9f-8637-bf22c8f4d19e"
      },
      "execution_count": null,
      "outputs": [
        {
          "output_type": "stream",
          "name": "stdout",
          "text": [
            "[1] \"2025-02-03\"\n"
          ]
        }
      ]
    },
    {
      "cell_type": "code",
      "source": [],
      "metadata": {
        "id": "ramk8qWcUQIC"
      },
      "execution_count": null,
      "outputs": []
    },
    {
      "cell_type": "code",
      "source": [
        "# Sum of elements\n",
        "total_sum <- sum(c(1, 2, 3, 4, 5))\n",
        "print(total_sum)"
      ],
      "metadata": {
        "colab": {
          "base_uri": "https://localhost:8080/"
        },
        "id": "4aDjWs1eUef0",
        "outputId": "e96fdc30-a596-46a4-e18f-c84a67473d64"
      },
      "execution_count": null,
      "outputs": [
        {
          "output_type": "stream",
          "name": "stdout",
          "text": [
            "[1] 15\n"
          ]
        }
      ]
    },
    {
      "cell_type": "code",
      "source": [
        "# Product of elements\n",
        "total_prod <- prod(c(1, 2, 3, 4, 5))\n",
        "print(total_prod)"
      ],
      "metadata": {
        "colab": {
          "base_uri": "https://localhost:8080/"
        },
        "id": "rv6fFGLaUjOP",
        "outputId": "240d0f7f-b5f7-43ac-f3f8-e34463e229a6"
      },
      "execution_count": null,
      "outputs": [
        {
          "output_type": "stream",
          "name": "stdout",
          "text": [
            "[1] 120\n"
          ]
        }
      ]
    },
    {
      "cell_type": "code",
      "source": [
        "# Cumulative sum\n",
        "cum_sum <- cumsum(c(1, 2, 3, 4, 5))\n",
        "print(cum_sum)"
      ],
      "metadata": {
        "colab": {
          "base_uri": "https://localhost:8080/"
        },
        "id": "2zXHWU5-Unnq",
        "outputId": "30679fe7-b17c-4fef-8dc5-6d94196f35ea"
      },
      "execution_count": null,
      "outputs": [
        {
          "output_type": "stream",
          "name": "stdout",
          "text": [
            "[1]  1  3  6 10 15\n"
          ]
        }
      ]
    },
    {
      "cell_type": "code",
      "source": [
        "# Cumulative product\n",
        "cum_prod <- cumprod(c(1, 2, 3, 4, 5))\n",
        "print(cum_prod)"
      ],
      "metadata": {
        "colab": {
          "base_uri": "https://localhost:8080/"
        },
        "id": "jp2SKBhxUs7l",
        "outputId": "e4950f21-b7b9-49b3-e639-179d546be5ad"
      },
      "execution_count": null,
      "outputs": [
        {
          "output_type": "stream",
          "name": "stdout",
          "text": [
            "[1]   1   2   6  24 120\n"
          ]
        }
      ]
    },
    {
      "cell_type": "code",
      "source": [
        "# Compute mean\n",
        "avg <- mean(c(1, 2, 3, 4, 5))\n",
        "print(avg)"
      ],
      "metadata": {
        "colab": {
          "base_uri": "https://localhost:8080/"
        },
        "id": "yIQDc4lKUy7u",
        "outputId": "14d30a74-95e1-4aaf-8811-cd15fef80fa0"
      },
      "execution_count": null,
      "outputs": [
        {
          "output_type": "stream",
          "name": "stdout",
          "text": [
            "[1] 3\n"
          ]
        }
      ]
    },
    {
      "cell_type": "code",
      "source": [
        "#  Compute median\n",
        "med <- median(c(1, 2, 3, 4, 5))\n",
        "print(med)"
      ],
      "metadata": {
        "colab": {
          "base_uri": "https://localhost:8080/"
        },
        "id": "UV16oFgNU3Ei",
        "outputId": "20a2d7bb-6d4e-44de-b579-214629c8f792"
      },
      "execution_count": null,
      "outputs": [
        {
          "output_type": "stream",
          "name": "stdout",
          "text": [
            "[1] 3\n"
          ]
        }
      ]
    },
    {
      "cell_type": "code",
      "source": [
        "# Find minimum\n",
        "min_val <- min(c(5, 3, 8, 1))\n",
        "print(min_val)"
      ],
      "metadata": {
        "colab": {
          "base_uri": "https://localhost:8080/"
        },
        "id": "wlDQK6LKU65g",
        "outputId": "47a02a65-e9b5-4444-f9fb-f43f140fcbc7"
      },
      "execution_count": null,
      "outputs": [
        {
          "output_type": "stream",
          "name": "stdout",
          "text": [
            "[1] 1\n"
          ]
        }
      ]
    },
    {
      "cell_type": "code",
      "source": [
        "#  Find maximum\n",
        "max_val <- max(c(5, 3, 8, 1))\n",
        "print(max_val)"
      ],
      "metadata": {
        "colab": {
          "base_uri": "https://localhost:8080/"
        },
        "id": "Xvn_u_orU_5o",
        "outputId": "b55e2089-d8c4-469b-852b-fb5e32c35d0a"
      },
      "execution_count": null,
      "outputs": [
        {
          "output_type": "stream",
          "name": "stdout",
          "text": [
            "[1] 8\n"
          ]
        }
      ]
    },
    {
      "cell_type": "code",
      "source": [
        "# Find range (min and max values)\n",
        "range_vals <- range(c(5, 3, 8, 1))\n",
        "print(range_vals)"
      ],
      "metadata": {
        "colab": {
          "base_uri": "https://localhost:8080/"
        },
        "id": "SoHjSawTVET6",
        "outputId": "ab78c536-26cd-4ae4-dee3-3d69e700c852"
      },
      "execution_count": null,
      "outputs": [
        {
          "output_type": "stream",
          "name": "stdout",
          "text": [
            "[1] 1 8\n"
          ]
        }
      ]
    },
    {
      "cell_type": "code",
      "source": [
        "# Variance\n",
        "variance_val <- var(c(1, 2, 3, 4, 5))\n",
        "print(variance_val)"
      ],
      "metadata": {
        "colab": {
          "base_uri": "https://localhost:8080/"
        },
        "id": "u3n5KG76VJDN",
        "outputId": "3dec4104-0ee2-4cd4-8d86-a0e9c97d5fbd"
      },
      "execution_count": null,
      "outputs": [
        {
          "output_type": "stream",
          "name": "stdout",
          "text": [
            "[1] 2.5\n"
          ]
        }
      ]
    },
    {
      "cell_type": "code",
      "source": [
        "# Standard deviation\n",
        "std_dev <- sd(c(1, 2, 3, 4, 5))\n",
        "print(std_dev)"
      ],
      "metadata": {
        "colab": {
          "base_uri": "https://localhost:8080/"
        },
        "id": "n0rojKKKVOd7",
        "outputId": "44c4c1ee-4b63-47ed-db66-2b8589a5bf45"
      },
      "execution_count": null,
      "outputs": [
        {
          "output_type": "stream",
          "name": "stdout",
          "text": [
            "[1] 1.581139\n"
          ]
        }
      ]
    },
    {
      "cell_type": "code",
      "source": [
        "# Compute quantiles\n",
        "quartiles <- quantile(c(1, 2, 3, 4, 5), probs = c(0.25, 0.5, 0.75))\n",
        "print(quartiles)"
      ],
      "metadata": {
        "colab": {
          "base_uri": "https://localhost:8080/"
        },
        "id": "nDx0GhyPVS4v",
        "outputId": "ac52986d-226e-472b-9a85-56f208a5d735"
      },
      "execution_count": null,
      "outputs": [
        {
          "output_type": "stream",
          "name": "stdout",
          "text": [
            "25% 50% 75% \n",
            "  2   3   4 \n"
          ]
        }
      ]
    },
    {
      "cell_type": "code",
      "source": [
        "# Round values\n",
        "rounded_val <- round(3.14159, digits = 2)\n",
        "print(rounded_val)"
      ],
      "metadata": {
        "colab": {
          "base_uri": "https://localhost:8080/"
        },
        "id": "YEWnJ_0QVZBJ",
        "outputId": "346f89d1-860f-4371-e06c-3d0687694e74"
      },
      "execution_count": null,
      "outputs": [
        {
          "output_type": "stream",
          "name": "stdout",
          "text": [
            "[1] 3.14\n"
          ]
        }
      ]
    },
    {
      "cell_type": "code",
      "source": [
        "# Round up\n",
        "ceil_val <- ceiling(3.14)\n",
        "print(ceil_val)"
      ],
      "metadata": {
        "colab": {
          "base_uri": "https://localhost:8080/"
        },
        "id": "qAj5GHSEVeIL",
        "outputId": "50911765-b53c-4117-a6f0-b9f4a22ac600"
      },
      "execution_count": null,
      "outputs": [
        {
          "output_type": "stream",
          "name": "stdout",
          "text": [
            "[1] 4\n"
          ]
        }
      ]
    },
    {
      "cell_type": "code",
      "source": [
        "# Round down\n",
        "floor_val <- floor(3.99)\n",
        "print(floor_val)"
      ],
      "metadata": {
        "colab": {
          "base_uri": "https://localhost:8080/"
        },
        "id": "9wR33vPVVi9v",
        "outputId": "1a4f889c-f4e4-467d-dc8f-064caca4322f"
      },
      "execution_count": null,
      "outputs": [
        {
          "output_type": "stream",
          "name": "stdout",
          "text": [
            "[1] 3\n"
          ]
        }
      ]
    },
    {
      "cell_type": "code",
      "source": [
        "#  Absolute value\n",
        "abs_val <- abs(-10)\n",
        "print(abs_val)"
      ],
      "metadata": {
        "colab": {
          "base_uri": "https://localhost:8080/"
        },
        "id": "z2DDmC_nVokM",
        "outputId": "504ce482-b41f-4317-c64c-67071bc86792"
      },
      "execution_count": null,
      "outputs": [
        {
          "output_type": "stream",
          "name": "stdout",
          "text": [
            "[1] 10\n"
          ]
        }
      ]
    },
    {
      "cell_type": "code",
      "source": [
        "# Square root\n",
        "sqrt_val <- sqrt(16)\n",
        "print(sqrt_val)"
      ],
      "metadata": {
        "colab": {
          "base_uri": "https://localhost:8080/"
        },
        "id": "2Ay00UAzVtZS",
        "outputId": "fa306a39-1d50-4198-c592-29feedad7a15"
      },
      "execution_count": null,
      "outputs": [
        {
          "output_type": "stream",
          "name": "stdout",
          "text": [
            "[1] 4\n"
          ]
        }
      ]
    },
    {
      "cell_type": "code",
      "source": [
        "# Natural logarithm\n",
        "log_val <- log(10)\n",
        "print(log_val)"
      ],
      "metadata": {
        "colab": {
          "base_uri": "https://localhost:8080/"
        },
        "id": "J0Wp4NqqVyRY",
        "outputId": "733d4d5d-cfa2-449b-c1cd-c5cb5ebd03ac"
      },
      "execution_count": null,
      "outputs": [
        {
          "output_type": "stream",
          "name": "stdout",
          "text": [
            "[1] 2.302585\n"
          ]
        }
      ]
    },
    {
      "cell_type": "code",
      "source": [
        "# Exponential function\n",
        "exp_val <- exp(2)\n",
        "print(exp_val)"
      ],
      "metadata": {
        "colab": {
          "base_uri": "https://localhost:8080/"
        },
        "id": "N1xTrzjvV2xW",
        "outputId": "dd6b5825-6103-4391-ed2e-83189786da7d"
      },
      "execution_count": null,
      "outputs": [
        {
          "output_type": "stream",
          "name": "stdout",
          "text": [
            "[1] 7.389056\n"
          ]
        }
      ]
    },
    {
      "cell_type": "code",
      "source": [
        "# Compute factorial\n",
        "fact_val <- factorial(5)\n",
        "print(fact_val)"
      ],
      "metadata": {
        "colab": {
          "base_uri": "https://localhost:8080/"
        },
        "id": "q4_MzJghV7hn",
        "outputId": "384578b8-9cc0-4824-9f43-de4a3f7eedfa"
      },
      "execution_count": null,
      "outputs": [
        {
          "output_type": "stream",
          "name": "stdout",
          "text": [
            "[1] 120\n"
          ]
        }
      ]
    },
    {
      "cell_type": "code",
      "source": [
        "# Compute binomial coefficient (nCr)\n",
        "binom_coeff <- choose(5, 2)\n",
        "print(binom_coeff)"
      ],
      "metadata": {
        "colab": {
          "base_uri": "https://localhost:8080/"
        },
        "id": "b0qrWTCNWCnj",
        "outputId": "688b48f9-c642-4ea6-ea1e-0165364f97dd"
      },
      "execution_count": null,
      "outputs": [
        {
          "output_type": "stream",
          "name": "stdout",
          "text": [
            "[1] 10\n"
          ]
        }
      ]
    },
    {
      "cell_type": "code",
      "source": [
        "# Sine function\n",
        "sin_val <- sin(pi / 2)\n",
        "print(sin_val)"
      ],
      "metadata": {
        "colab": {
          "base_uri": "https://localhost:8080/"
        },
        "id": "ku6YpPDVWHfF",
        "outputId": "7a3ed1fa-e0da-4b2e-b416-ff20506a9bef"
      },
      "execution_count": null,
      "outputs": [
        {
          "output_type": "stream",
          "name": "stdout",
          "text": [
            "[1] 1\n"
          ]
        }
      ]
    },
    {
      "cell_type": "code",
      "source": [
        "# Cosine function\n",
        "cos_val <- cos(pi)\n",
        "print(cos_val)"
      ],
      "metadata": {
        "colab": {
          "base_uri": "https://localhost:8080/"
        },
        "id": "N2VYG5dmWNYe",
        "outputId": "d97b87f8-5621-4d95-d32b-73fa25d525de"
      },
      "execution_count": null,
      "outputs": [
        {
          "output_type": "stream",
          "name": "stdout",
          "text": [
            "[1] -1\n"
          ]
        }
      ]
    },
    {
      "cell_type": "code",
      "source": [
        "# Tangent function\n",
        "tan_val <- tan(pi / 4)\n",
        "print(tan_val)"
      ],
      "metadata": {
        "colab": {
          "base_uri": "https://localhost:8080/"
        },
        "id": "mvyyNXviWRo0",
        "outputId": "fa07896c-aaba-4fcf-af6c-da4908fc63d1"
      },
      "execution_count": null,
      "outputs": [
        {
          "output_type": "stream",
          "name": "stdout",
          "text": [
            "[1] 1\n"
          ]
        }
      ]
    },
    {
      "cell_type": "code",
      "source": [
        "#  Correlation coefficient\n",
        "cor_val <- cor(c(1, 2, 3), c(4, 5, 6))\n",
        "print(cor_val)"
      ],
      "metadata": {
        "colab": {
          "base_uri": "https://localhost:8080/"
        },
        "id": "LxkrRs2QWWBg",
        "outputId": "e609da8a-896b-4017-ba52-935f53e8c602"
      },
      "execution_count": null,
      "outputs": [
        {
          "output_type": "stream",
          "name": "stdout",
          "text": [
            "[1] 1\n"
          ]
        }
      ]
    },
    {
      "cell_type": "code",
      "source": [
        "# Covariance\n",
        "cov_val <- cov(c(1, 2, 3), c(4, 5, 6))\n",
        "print(cov_val)"
      ],
      "metadata": {
        "colab": {
          "base_uri": "https://localhost:8080/"
        },
        "id": "uCKJEDCIWarH",
        "outputId": "7ae19bbb-3e35-465a-aa3c-b771dfe56a55"
      },
      "execution_count": null,
      "outputs": [
        {
          "output_type": "stream",
          "name": "stdout",
          "text": [
            "[1] 1\n"
          ]
        }
      ]
    },
    {
      "cell_type": "code",
      "source": [
        "#  Create a data frame"
      ],
      "metadata": {
        "id": "TIOxEmerWfYi"
      },
      "execution_count": null,
      "outputs": []
    },
    {
      "cell_type": "code",
      "source": [
        "#  Create a data frame\n",
        "df <- data.frame(Name = c(\"Alice\", \"Bob\"), Age = c(25, 30))\n",
        "print(df)"
      ],
      "metadata": {
        "colab": {
          "base_uri": "https://localhost:8080/"
        },
        "id": "k0OvcvEzWuD2",
        "outputId": "1220ee37-92c0-4616-f171-073941df20c6"
      },
      "execution_count": null,
      "outputs": [
        {
          "output_type": "stream",
          "name": "stdout",
          "text": [
            "   Name Age\n",
            "1 Alice  25\n",
            "2   Bob  30\n"
          ]
        }
      ]
    },
    {
      "cell_type": "code",
      "source": [
        "# Create a list\n",
        "my_list <- list(Name = \"Alice\", Age = 25, Scores = c(80, 90, 85))\n",
        "print(my_list)"
      ],
      "metadata": {
        "colab": {
          "base_uri": "https://localhost:8080/"
        },
        "id": "Kj9GQPodWw5Q",
        "outputId": "7413f9c3-c0a2-4479-c520-ee3e3f8fde60"
      },
      "execution_count": null,
      "outputs": [
        {
          "output_type": "stream",
          "name": "stdout",
          "text": [
            "$Name\n",
            "[1] \"Alice\"\n",
            "\n",
            "$Age\n",
            "[1] 25\n",
            "\n",
            "$Scores\n",
            "[1] 80 90 85\n",
            "\n"
          ]
        }
      ]
    },
    {
      "cell_type": "code",
      "source": [
        "# Create a matrix\n",
        "mat <- matrix(1:9, nrow = 3, ncol = 3)\n",
        "print(mat)"
      ],
      "metadata": {
        "colab": {
          "base_uri": "https://localhost:8080/"
        },
        "id": "X_caBn1_W277",
        "outputId": "10aaa572-7b9d-454d-bf0b-54b1146acc13"
      },
      "execution_count": null,
      "outputs": [
        {
          "output_type": "stream",
          "name": "stdout",
          "text": [
            "     [,1] [,2] [,3]\n",
            "[1,]    1    4    7\n",
            "[2,]    2    5    8\n",
            "[3,]    3    6    9\n"
          ]
        }
      ]
    },
    {
      "cell_type": "code",
      "source": [
        "# Create an array\n",
        "arr <- array(1:12, dim = c(2, 3, 2))\n",
        "print(arr)"
      ],
      "metadata": {
        "colab": {
          "base_uri": "https://localhost:8080/"
        },
        "id": "PrTynZC0W7OV",
        "outputId": "beb1c299-35b3-4f1b-c8ab-0874d9851443"
      },
      "execution_count": null,
      "outputs": [
        {
          "output_type": "stream",
          "name": "stdout",
          "text": [
            ", , 1\n",
            "\n",
            "     [,1] [,2] [,3]\n",
            "[1,]    1    3    5\n",
            "[2,]    2    4    6\n",
            "\n",
            ", , 2\n",
            "\n",
            "     [,1] [,2] [,3]\n",
            "[1,]    7    9   11\n",
            "[2,]    8   10   12\n",
            "\n"
          ]
        }
      ]
    },
    {
      "cell_type": "code",
      "source": [
        "# Transpose a matrix\n",
        "transposed_mat <- t(mat)\n",
        "print(transposed_mat)"
      ],
      "metadata": {
        "colab": {
          "base_uri": "https://localhost:8080/"
        },
        "id": "JrYdBr-ZW-3_",
        "outputId": "f2c8b046-fc7c-41cf-86ce-893d3160e616"
      },
      "execution_count": null,
      "outputs": [
        {
          "output_type": "stream",
          "name": "stdout",
          "text": [
            "     [,1] [,2] [,3]\n",
            "[1,]    1    2    3\n",
            "[2,]    4    5    6\n",
            "[3,]    7    8    9\n"
          ]
        }
      ]
    },
    {
      "cell_type": "code",
      "source": [
        "# Row bind data\n",
        "df2 <- rbind(df, data.frame(Name = \"Charlie\", Age = 28))\n",
        "print(df2)"
      ],
      "metadata": {
        "colab": {
          "base_uri": "https://localhost:8080/"
        },
        "id": "3pEfj7rgXD_o",
        "outputId": "46538613-a500-4d41-b2d3-ab71c9ad23ea"
      },
      "execution_count": null,
      "outputs": [
        {
          "output_type": "stream",
          "name": "stdout",
          "text": [
            "     Name Age\n",
            "1   Alice  25\n",
            "2     Bob  30\n",
            "3 Charlie  28\n"
          ]
        }
      ]
    },
    {
      "cell_type": "code",
      "source": [
        "#  Column bind data\n",
        "df3 <- cbind(df, Salary = c(50000, 55000))\n",
        "print(df3)"
      ],
      "metadata": {
        "colab": {
          "base_uri": "https://localhost:8080/"
        },
        "id": "5Ch04Mp7XIxh",
        "outputId": "ac5f5ff3-d23b-47da-a811-90bbad49b0e3"
      },
      "execution_count": null,
      "outputs": [
        {
          "output_type": "stream",
          "name": "stdout",
          "text": [
            "   Name Age Salary\n",
            "1 Alice  25  50000\n",
            "2   Bob  30  55000\n"
          ]
        }
      ]
    },
    {
      "cell_type": "code",
      "source": [
        "# Get dimensions of matrix/dataframe\n",
        "dimensions <- dim(df)\n",
        "print(dimensions)"
      ],
      "metadata": {
        "colab": {
          "base_uri": "https://localhost:8080/"
        },
        "id": "wUoMohELXNKu",
        "outputId": "575ba62c-924c-4288-e6c7-0b3f745ddd18"
      },
      "execution_count": null,
      "outputs": [
        {
          "output_type": "stream",
          "name": "stdout",
          "text": [
            "[1] 2 2\n"
          ]
        }
      ]
    },
    {
      "cell_type": "code",
      "source": [
        "# Number of rows\n",
        "rows <- nrow(df)\n",
        "print(rows)"
      ],
      "metadata": {
        "colab": {
          "base_uri": "https://localhost:8080/"
        },
        "id": "ZNE5BOUrXSLo",
        "outputId": "0b99182d-c261-4ea3-95f8-40fc001888f3"
      },
      "execution_count": null,
      "outputs": [
        {
          "output_type": "stream",
          "name": "stdout",
          "text": [
            "[1] 2\n"
          ]
        }
      ]
    },
    {
      "cell_type": "code",
      "source": [
        "# Number of columns\n",
        "cols <- ncol(df)\n",
        "print(cols)"
      ],
      "metadata": {
        "colab": {
          "base_uri": "https://localhost:8080/"
        },
        "id": "awI9Yv5gXV9y",
        "outputId": "114ec23c-ad60-4d3c-faff-7e9922030903"
      },
      "execution_count": null,
      "outputs": [
        {
          "output_type": "stream",
          "name": "stdout",
          "text": [
            "[1] 2\n"
          ]
        }
      ]
    },
    {
      "cell_type": "code",
      "source": [
        "# Get or set column names\n",
        "col_names <- names(df)\n",
        "names(df) <- c(\"Full_Name\", \"Age_Years\")\n",
        "print(col_names)"
      ],
      "metadata": {
        "colab": {
          "base_uri": "https://localhost:8080/"
        },
        "id": "mITfLpxAXad8",
        "outputId": "0a29d023-882a-4f84-d4fe-e6986226e13c"
      },
      "execution_count": null,
      "outputs": [
        {
          "output_type": "stream",
          "name": "stdout",
          "text": [
            "[1] \"Name\" \"Age\" \n"
          ]
        }
      ]
    },
    {
      "cell_type": "code",
      "source": [
        "# Get/set column names\n",
        "colnames(df) <- c(\"Name\", \"Age\")\n",
        "print(colnames)"
      ],
      "metadata": {
        "colab": {
          "base_uri": "https://localhost:8080/"
        },
        "id": "18jrVkqWXfgH",
        "outputId": "9241674f-2de0-47f6-eddb-a32e58ad4e9c"
      },
      "execution_count": null,
      "outputs": [
        {
          "output_type": "stream",
          "name": "stdout",
          "text": [
            "function (x, do.NULL = TRUE, prefix = \"col\") \n",
            "{\n",
            "    if (is.data.frame(x) && do.NULL) \n",
            "        names(x)\n",
            "    else dimnames(x)[[2L]] %||% if (do.NULL) \n",
            "        NULL\n",
            "    else {\n",
            "        nc <- NCOL(x)\n",
            "        if (nc > 0L) \n",
            "            paste0(prefix, seq_len(nc))\n",
            "        else character()\n",
            "    }\n",
            "}\n",
            "<bytecode: 0x59280f1bf258>\n",
            "<environment: namespace:base>\n"
          ]
        }
      ]
    },
    {
      "cell_type": "code",
      "source": [
        "# Get/set row names\n",
        "rownames(df) <- c(\"Row1\", \"Row2\")\n",
        "print(rownames)"
      ],
      "metadata": {
        "colab": {
          "base_uri": "https://localhost:8080/"
        },
        "id": "Ni6GYr4KXkWz",
        "outputId": "294ca718-6acb-4f15-dd41-b80dcaf2f858"
      },
      "execution_count": null,
      "outputs": [
        {
          "output_type": "stream",
          "name": "stdout",
          "text": [
            "function (x, do.NULL = TRUE, prefix = \"row\") \n",
            "{\n",
            "    dimnames(x)[[1L]] %||% if (do.NULL) \n",
            "        NULL\n",
            "    else {\n",
            "        nr <- NROW(x)\n",
            "        if (nr > 0L) \n",
            "            paste0(prefix, seq_len(nr))\n",
            "        else character()\n",
            "    }\n",
            "}\n",
            "<bytecode: 0x592810070b80>\n",
            "<environment: namespace:base>\n"
          ]
        }
      ]
    },
    {
      "cell_type": "code",
      "source": [
        "#  Subset data\n",
        "sub_df <- subset(df, Age > 25)\n",
        "print(sub_df)"
      ],
      "metadata": {
        "colab": {
          "base_uri": "https://localhost:8080/"
        },
        "id": "w14EOJ2RXu82",
        "outputId": "bafce03d-c3aa-4512-a1b0-f0c7b9dfcc4a"
      },
      "execution_count": null,
      "outputs": [
        {
          "output_type": "stream",
          "name": "stdout",
          "text": [
            "     Name Age\n",
            "Row2  Bob  30\n"
          ]
        }
      ]
    },
    {
      "cell_type": "code",
      "source": [
        "# Merge data frames\n",
        "df4 <- data.frame(Name = c(\"Alice\", \"Bob\"), Salary = c(60000, 65000))\n",
        "merged_df <- merge(df, df4, by = \"Name\")\n",
        "print(df4)"
      ],
      "metadata": {
        "colab": {
          "base_uri": "https://localhost:8080/"
        },
        "id": "8srNNl0ZXzSu",
        "outputId": "bd229df7-4cea-4a2c-c517-527fae66d739"
      },
      "execution_count": null,
      "outputs": [
        {
          "output_type": "stream",
          "name": "stdout",
          "text": [
            "   Name Salary\n",
            "1 Alice  60000\n",
            "2   Bob  65000\n"
          ]
        }
      ]
    },
    {
      "cell_type": "code",
      "source": [
        "# Apply function over array margins\n",
        "row_sums <- apply(mat, 1, sum)  # Sum each row\n",
        "print(row_sums)"
      ],
      "metadata": {
        "colab": {
          "base_uri": "https://localhost:8080/"
        },
        "id": "gKf7C-ReX26E",
        "outputId": "48081a5e-0d90-4025-a4f3-c99345a2d0c5"
      },
      "execution_count": null,
      "outputs": [
        {
          "output_type": "stream",
          "name": "stdout",
          "text": [
            "[1] 12 15 18\n"
          ]
        }
      ]
    },
    {
      "cell_type": "code",
      "source": [
        "# Apply function over list (returns list)\n",
        "lapply_result <- lapply(list(1:5, 6:10), sum)\n",
        "print(lapply_result)"
      ],
      "metadata": {
        "colab": {
          "base_uri": "https://localhost:8080/"
        },
        "id": "fy9TfJZNX7jg",
        "outputId": "46730ab3-0caf-455a-9e89-b19a6ce8c05b"
      },
      "execution_count": null,
      "outputs": [
        {
          "output_type": "stream",
          "name": "stdout",
          "text": [
            "[[1]]\n",
            "[1] 15\n",
            "\n",
            "[[2]]\n",
            "[1] 40\n",
            "\n"
          ]
        }
      ]
    },
    {
      "cell_type": "code",
      "source": [
        "# Simplified apply over list (returns vector/matrix)\n",
        "sapply_result <- sapply(list(1:5, 6:10), sum)\n",
        "print(sapply_result)"
      ],
      "metadata": {
        "colab": {
          "base_uri": "https://localhost:8080/"
        },
        "id": "FpCX0NoVYANE",
        "outputId": "8089a57e-53f3-4d06-e4d9-60e027c4c39c"
      },
      "execution_count": null,
      "outputs": [
        {
          "output_type": "stream",
          "name": "stdout",
          "text": [
            "[1] 15 40\n"
          ]
        }
      ]
    },
    {
      "cell_type": "code",
      "source": [
        "# Apply function over subsets\n",
        "tapply_result <- tapply(c(10, 20, 30, 40), c(\"A\", \"A\", \"B\", \"B\"), sum)\n",
        "print(tapply_result)"
      ],
      "metadata": {
        "colab": {
          "base_uri": "https://localhost:8080/"
        },
        "id": "EWd5isCVYFWU",
        "outputId": "28914bb2-687b-43c5-f18f-cbc69dae21a7"
      },
      "execution_count": null,
      "outputs": [
        {
          "output_type": "stream",
          "name": "stdout",
          "text": [
            " A  B \n",
            "30 70 \n"
          ]
        }
      ]
    },
    {
      "cell_type": "code",
      "source": [
        "# Aggregate data\n",
        "df5 <- data.frame(Group = c(\"A\", \"A\", \"B\", \"B\"), Score = c(10, 20, 30, 40))\n",
        "agg_df <- aggregate(Score ~ Group, data = df5, FUN = mean)\n",
        "print(df5)"
      ],
      "metadata": {
        "colab": {
          "base_uri": "https://localhost:8080/"
        },
        "id": "w9FMVYq8YJ8d",
        "outputId": "f88575ab-8e3c-4297-9782-71d84e496ed3"
      },
      "execution_count": null,
      "outputs": [
        {
          "output_type": "stream",
          "name": "stdout",
          "text": [
            "  Group Score\n",
            "1     A    10\n",
            "2     A    20\n",
            "3     B    30\n",
            "4     B    40\n"
          ]
        }
      ]
    },
    {
      "cell_type": "code",
      "source": [
        "# Split data into groups\n",
        "split_data <- split(df5$Score, df5$Group)\n",
        "print(split_data)"
      ],
      "metadata": {
        "colab": {
          "base_uri": "https://localhost:8080/"
        },
        "id": "p0gdHh05YNZV",
        "outputId": "3c864d4a-6192-4d0e-c941-822aa5182d5c"
      },
      "execution_count": null,
      "outputs": [
        {
          "output_type": "stream",
          "name": "stdout",
          "text": [
            "$A\n",
            "[1] 10 20\n",
            "\n",
            "$B\n",
            "[1] 30 40\n",
            "\n"
          ]
        }
      ]
    },
    {
      "cell_type": "code",
      "source": [
        "# Convert dataframe columns into key-value pairs\n",
        "df6 <- data.frame(A = c(1, 2), B = c(3, 4))\n",
        "stacked_df <- stack(df6)\n",
        "print(df6)"
      ],
      "metadata": {
        "colab": {
          "base_uri": "https://localhost:8080/"
        },
        "id": "JclEoq8OYRtp",
        "outputId": "99cc2cc1-a29e-4f14-8387-ca74d96d0828"
      },
      "execution_count": null,
      "outputs": [
        {
          "output_type": "stream",
          "name": "stdout",
          "text": [
            "  A B\n",
            "1 1 3\n",
            "2 2 4\n"
          ]
        }
      ]
    },
    {
      "cell_type": "code",
      "source": [
        "# Convert stacked data back\n",
        "unstacked_df <- unstack(stacked_df)\n",
        "print(unstacked_df)"
      ],
      "metadata": {
        "colab": {
          "base_uri": "https://localhost:8080/"
        },
        "id": "zgG78Ll2YgcD",
        "outputId": "c52e04d3-d8d1-4589-8177-e0e301371391"
      },
      "execution_count": null,
      "outputs": [
        {
          "output_type": "stream",
          "name": "stdout",
          "text": [
            "  A B\n",
            "1 1 3\n",
            "2 2 4\n"
          ]
        }
      ]
    },
    {
      "cell_type": "code",
      "source": [
        "# Reshape data\n",
        "df7 <- data.frame(ID = c(1, 1, 2, 2), Time = c(1, 2, 1, 2), Value = c(10, 20, 15, 25))\n",
        "reshaped_df <- reshape(df7, idvar = \"ID\", timevar = \"Time\", direction = \"wide\")\n",
        "print(df7)"
      ],
      "metadata": {
        "colab": {
          "base_uri": "https://localhost:8080/"
        },
        "id": "Iwy7ddq5YmqG",
        "outputId": "a5528aa0-9a61-443e-d415-30c8edbd3e1d"
      },
      "execution_count": null,
      "outputs": [
        {
          "output_type": "stream",
          "name": "stdout",
          "text": [
            "  ID Time Value\n",
            "1  1    1    10\n",
            "2  1    2    20\n",
            "3  2    1    15\n",
            "4  2    2    25\n"
          ]
        }
      ]
    },
    {
      "cell_type": "code",
      "source": [
        "#   Vectorized conditional statement\n",
        "x <- c(1, 5, 10, 15)\n",
        "result <- ifelse(x > 5, \"Greater than 5\", \"Less or equal to 5\")\n",
        "print(result)"
      ],
      "metadata": {
        "colab": {
          "base_uri": "https://localhost:8080/"
        },
        "id": "b4RaYIz5WmWc",
        "outputId": "430765c6-50bc-4918-fa1a-0aa912a11f9d"
      },
      "execution_count": null,
      "outputs": [
        {
          "output_type": "stream",
          "name": "stdout",
          "text": [
            "[1] \"Less or equal to 5\" \"Less or equal to 5\" \"Greater than 5\"    \n",
            "[4] \"Greater than 5\"    \n"
          ]
        }
      ]
    },
    {
      "cell_type": "code",
      "source": [
        "# Conditional execution\n",
        "x <- 10\n",
        "if (x > 5) {\n",
        "    print(\"x is greater than 5\")\n",
        "}\n"
      ],
      "metadata": {
        "colab": {
          "base_uri": "https://localhost:8080/"
        },
        "id": "dYHoVhQ6WwYs",
        "outputId": "40ed20fa-b7bd-42ea-baad-01f2e619acb6"
      },
      "execution_count": null,
      "outputs": [
        {
          "output_type": "stream",
          "name": "stdout",
          "text": [
            "[1] \"x is greater than 5\"\n"
          ]
        }
      ]
    },
    {
      "cell_type": "code",
      "source": [
        "# Alternative branch for if\n",
        "x <- 3\n",
        "if (x > 5) {\n",
        "    print(\"x is greater than 5\")\n",
        "} else {\n",
        "    print(\"x is 5 or less\")\n",
        "}\n"
      ],
      "metadata": {
        "colab": {
          "base_uri": "https://localhost:8080/"
        },
        "id": "yrCnoByRW4Wi",
        "outputId": "9fded195-4a04-48a0-e467-e79fbf12166f"
      },
      "execution_count": null,
      "outputs": [
        {
          "output_type": "stream",
          "name": "stdout",
          "text": [
            "[1] \"x is 5 or less\"\n"
          ]
        }
      ]
    },
    {
      "cell_type": "code",
      "source": [
        "# Loop over sequence\n",
        "for (i in 1:5) {\n",
        "    print(paste(\"Iteration:\", i))\n",
        "}\n"
      ],
      "metadata": {
        "colab": {
          "base_uri": "https://localhost:8080/"
        },
        "id": "CW_vjwThXK1X",
        "outputId": "54caa3dd-06fc-4a1a-d5b2-ec217d95fecb"
      },
      "execution_count": null,
      "outputs": [
        {
          "output_type": "stream",
          "name": "stdout",
          "text": [
            "[1] \"Iteration: 1\"\n",
            "[1] \"Iteration: 2\"\n",
            "[1] \"Iteration: 3\"\n",
            "[1] \"Iteration: 4\"\n",
            "[1] \"Iteration: 5\"\n"
          ]
        }
      ]
    },
    {
      "cell_type": "code",
      "source": [
        "# Loop while condition holds\n",
        "x <- 1\n",
        "while (x <= 5) {\n",
        "    print(paste(\"x is:\", x))\n",
        "    x <- x + 1\n",
        "}\n"
      ],
      "metadata": {
        "colab": {
          "base_uri": "https://localhost:8080/"
        },
        "id": "7E57uxYmXOg7",
        "outputId": "e82a3728-bcbb-4eca-b2f0-4f4683b789e0"
      },
      "execution_count": null,
      "outputs": [
        {
          "output_type": "stream",
          "name": "stdout",
          "text": [
            "[1] \"x is: 1\"\n",
            "[1] \"x is: 2\"\n",
            "[1] \"x is: 3\"\n",
            "[1] \"x is: 4\"\n",
            "[1] \"x is: 5\"\n"
          ]
        }
      ]
    },
    {
      "cell_type": "code",
      "source": [
        "# Infinite loop (until break)\n",
        "x <- 1\n",
        "repeat {\n",
        "    print(x)\n",
        "    x <- x + 1\n",
        "    if (x > 5) {\n",
        "        break\n",
        "    }\n",
        "}\n",
        "\n"
      ],
      "metadata": {
        "colab": {
          "base_uri": "https://localhost:8080/"
        },
        "id": "LVM4L1_kXSQI",
        "outputId": "2028fced-46e4-413b-953b-acaade637a41"
      },
      "execution_count": null,
      "outputs": [
        {
          "output_type": "stream",
          "name": "stdout",
          "text": [
            "[1] 1\n",
            "[1] 2\n",
            "[1] 3\n",
            "[1] 4\n",
            "[1] 5\n"
          ]
        }
      ]
    },
    {
      "cell_type": "code",
      "source": [
        "# Exit loop\n",
        "for (i in 1:10) {\n",
        "    if (i == 5) {\n",
        "        break  # Exit loop when i is 5\n",
        "    }\n",
        "    print(i)\n",
        "}\n"
      ],
      "metadata": {
        "colab": {
          "base_uri": "https://localhost:8080/"
        },
        "id": "JT_LgSQbXX7S",
        "outputId": "bd9c95fa-848d-4bb2-dd75-85b0a5ba656f"
      },
      "execution_count": null,
      "outputs": [
        {
          "output_type": "stream",
          "name": "stdout",
          "text": [
            "[1] 1\n",
            "[1] 2\n",
            "[1] 3\n",
            "[1] 4\n"
          ]
        }
      ]
    },
    {
      "cell_type": "code",
      "source": [
        "#  Skip current iteration\n",
        "for (i in 1:5) {\n",
        "    if (i == 3) {\n",
        "        next  # Skip printing when i is 3\n",
        "    }\n",
        "    print(i)\n",
        "}\n"
      ],
      "metadata": {
        "colab": {
          "base_uri": "https://localhost:8080/"
        },
        "id": "9AFTzd2KXb7D",
        "outputId": "cdbafe0c-0426-4249-e9f8-3f95ea86f05c"
      },
      "execution_count": null,
      "outputs": [
        {
          "output_type": "stream",
          "name": "stdout",
          "text": [
            "[1] 1\n",
            "[1] 2\n",
            "[1] 4\n",
            "[1] 5\n"
          ]
        }
      ]
    },
    {
      "cell_type": "code",
      "source": [
        "# Define a function\n",
        "add_numbers <- function(a, b) {\n",
        "    return(a + b)\n",
        "}\n",
        "result <- add_numbers(3, 5)\n",
        "print(result)\n"
      ],
      "metadata": {
        "colab": {
          "base_uri": "https://localhost:8080/"
        },
        "id": "mHCzNbCcXgzi",
        "outputId": "5aa4f3f0-e046-4d9c-d2ed-837b3a98fd00"
      },
      "execution_count": null,
      "outputs": [
        {
          "output_type": "stream",
          "name": "stdout",
          "text": [
            "[1] 8\n"
          ]
        }
      ]
    },
    {
      "cell_type": "code",
      "source": [
        "# Return value from function\n",
        "multiply_numbers <- function(a, b) {\n",
        "    return(a * b)\n",
        "}\n",
        "result <- multiply_numbers(4, 5)\n",
        "print(result)\n"
      ],
      "metadata": {
        "colab": {
          "base_uri": "https://localhost:8080/"
        },
        "id": "IPdlEEKGXjSW",
        "outputId": "4c1b8634-b1b3-4b24-ac6c-e765ed149154"
      },
      "execution_count": null,
      "outputs": [
        {
          "output_type": "stream",
          "name": "stdout",
          "text": [
            "[1] 20\n"
          ]
        }
      ]
    },
    {
      "cell_type": "code",
      "source": [
        "#  Halt execution with error\n",
        "check_positive <- function(x) {\n",
        "    if (x < 0) {\n",
        "        stop(\"Error: x must be positive\")\n",
        "    }\n",
        "    return(sqrt(x))\n",
        "}\n",
        "check_positive(5)\n"
      ],
      "metadata": {
        "colab": {
          "base_uri": "https://localhost:8080/",
          "height": 34
        },
        "id": "05LavUqHXmXS",
        "outputId": "28d3190e-dfe5-45eb-dc64-6dccd54f108f"
      },
      "execution_count": null,
      "outputs": [
        {
          "output_type": "display_data",
          "data": {
            "text/html": [
              "2.23606797749979"
            ],
            "text/markdown": "2.23606797749979",
            "text/latex": "2.23606797749979",
            "text/plain": [
              "[1] 2.236068"
            ]
          },
          "metadata": {}
        }
      ]
    },
    {
      "cell_type": "code",
      "source": [
        "# Generate a warning message\n",
        "check_age <- function(age) {\n",
        "    if (age < 18) {\n",
        "        warning(\"Warning: You are under 18!\")\n",
        "    }\n",
        "    return(paste(\"Age is\", age))\n",
        "}\n",
        "check_age(16)\n"
      ],
      "metadata": {
        "colab": {
          "base_uri": "https://localhost:8080/",
          "height": 69
        },
        "id": "l4s6hjJxXp8o",
        "outputId": "3d49199c-9b50-472c-c06c-cc7dc4799f3d"
      },
      "execution_count": null,
      "outputs": [
        {
          "output_type": "stream",
          "name": "stderr",
          "text": [
            "Warning message in check_age(16):\n",
            "“Warning: You are under 18!”\n"
          ]
        },
        {
          "output_type": "display_data",
          "data": {
            "text/html": [
              "'Age is 16'"
            ],
            "text/markdown": "'Age is 16'",
            "text/latex": "'Age is 16'",
            "text/plain": [
              "[1] \"Age is 16\""
            ]
          },
          "metadata": {}
        }
      ]
    },
    {
      "cell_type": "code",
      "source": [
        "# Catch errors (prevents stopping execution)\n",
        "result <- try(log(\"a\"))  # Attempting to take log of a character\n",
        "print(\"Code continues even if an error occurs\")\n"
      ],
      "metadata": {
        "colab": {
          "base_uri": "https://localhost:8080/"
        },
        "id": "ErTBk70TX27f",
        "outputId": "4ea36ce6-b0e1-49e6-bd28-60d54cd066e5"
      },
      "execution_count": null,
      "outputs": [
        {
          "output_type": "stream",
          "name": "stdout",
          "text": [
            "Error in log(\"a\") : non-numeric argument to mathematical function\n",
            "[1] \"Code continues even if an error occurs\"\n"
          ]
        }
      ]
    },
    {
      "cell_type": "code",
      "source": [
        "# Advanced error handling\n",
        "safe_log <- function(x) {\n",
        "    tryCatch({\n",
        "        log(x)\n",
        "    }, error = function(e) {\n",
        "        print(\"Error caught: Returning NA\")\n",
        "        return(NA)\n",
        "    })\n",
        "}\n",
        "result1 <- safe_log(10)  # Works fine\n",
        "result2 <- safe_log(\"a\") # Catches error and returns NA\n"
      ],
      "metadata": {
        "colab": {
          "base_uri": "https://localhost:8080/"
        },
        "id": "R4XWrO7_X7hX",
        "outputId": "48c283fa-9077-4c87-f74a-0375efa64a47"
      },
      "execution_count": null,
      "outputs": [
        {
          "output_type": "stream",
          "name": "stdout",
          "text": [
            "[1] \"Error caught: Returning NA\"\n"
          ]
        }
      ]
    },
    {
      "cell_type": "code",
      "source": [
        "# Working with Directories"
      ],
      "metadata": {
        "id": "SLmyisVvbHK6"
      },
      "execution_count": null,
      "outputs": []
    },
    {
      "cell_type": "code",
      "source": [
        "# Get current working directory\n",
        "current_dir <- getwd()\n",
        "print(current_dir)\n"
      ],
      "metadata": {
        "colab": {
          "base_uri": "https://localhost:8080/"
        },
        "id": "cO60TNUfbJrI",
        "outputId": "ccaacbf6-bbb7-4344-ad9a-91b7deaa8c6f"
      },
      "execution_count": null,
      "outputs": [
        {
          "output_type": "stream",
          "name": "stdout",
          "text": [
            "[1] \"/content\"\n"
          ]
        }
      ]
    },
    {
      "cell_type": "code",
      "source": [
        "# Set working directory\n",
        "setwd(\"C:/Users/YourName/Documents\")  # Change to your desired path\n"
      ],
      "metadata": {
        "id": "b9-WuBAcbNz9"
      },
      "execution_count": null,
      "outputs": []
    },
    {
      "cell_type": "code",
      "source": [
        "# List files in directory\n",
        "files <- list.files()\n",
        "print(files)\n"
      ],
      "metadata": {
        "colab": {
          "base_uri": "https://localhost:8080/"
        },
        "id": "D15zG2WJbRGM",
        "outputId": "7502a6b0-f23e-4052-9a49-62664bb56881"
      },
      "execution_count": null,
      "outputs": [
        {
          "output_type": "stream",
          "name": "stdout",
          "text": [
            "[1] \"sample_data\"\n"
          ]
        }
      ]
    },
    {
      "cell_type": "code",
      "source": [
        "# Check if a file exists\n",
        "file.exists(\"Fortune 500 Companies.csv\")"
      ],
      "metadata": {
        "colab": {
          "base_uri": "https://localhost:8080/",
          "height": 34
        },
        "id": "jc1G8FdebVF7",
        "outputId": "a0fb3a8f-5b31-4c66-c7ac-5de83dc9a318"
      },
      "execution_count": null,
      "outputs": [
        {
          "output_type": "display_data",
          "data": {
            "text/html": [
              "TRUE"
            ],
            "text/markdown": "TRUE",
            "text/latex": "TRUE",
            "text/plain": [
              "[1] TRUE"
            ]
          },
          "metadata": {}
        }
      ]
    },
    {
      "cell_type": "code",
      "source": [
        "# Delete a file\n",
        "file.remove(\"data.csv\")"
      ],
      "metadata": {
        "colab": {
          "base_uri": "https://localhost:8080/",
          "height": 69
        },
        "id": "g_ela1R4bqdw",
        "outputId": "5f6bafe5-6fc0-4366-b0b1-b3cde0c08ed2"
      },
      "execution_count": null,
      "outputs": [
        {
          "output_type": "stream",
          "name": "stderr",
          "text": [
            "Warning message in file.remove(\"data.csv\"):\n",
            "“cannot remove file 'data.csv', reason 'No such file or directory'”\n"
          ]
        },
        {
          "output_type": "display_data",
          "data": {
            "text/html": [
              "FALSE"
            ],
            "text/markdown": "FALSE",
            "text/latex": "FALSE",
            "text/plain": [
              "[1] FALSE"
            ]
          },
          "metadata": {}
        }
      ]
    },
    {
      "cell_type": "code",
      "source": [
        "# Read CSV file\n",
        "data <- read.csv(\"Fortune 500 Companies.csv\")\n",
        "print(head(data))"
      ],
      "metadata": {
        "colab": {
          "base_uri": "https://localhost:8080/"
        },
        "id": "sW56VaM_bvab",
        "outputId": "5a371bf9-6d06-4a42-e4f9-0c3600dd8ac6"
      },
      "execution_count": null,
      "outputs": [
        {
          "output_type": "stream",
          "name": "stdout",
          "text": [
            "                                         name rank year\n",
            "1                  General Motors Corporation    1 1996\n",
            "2                          Ford Motor Company    2 1996\n",
            "3                           Exxon Corporation    3 1996\n",
            "4                       Wal-Mart Stores, Inc.    4 1996\n",
            "5                                  AT&T Corp.    5 1996\n",
            "6 International Business Machines Corporation    6 1996\n",
            "                     industry sector headquarters_state headquarters_city\n",
            "1      Motor Vehicles & Parts                        MI                  \n",
            "2      Motor Vehicles & Parts                        MI                  \n",
            "3          Petroleum Refining                        TX                  \n",
            "4       General Merchandisers                        AR                  \n",
            "5          Telecommunications                        NY                  \n",
            "6 Computers, Office Equipment                        NY                  \n",
            "  market_value_mil revenue_mil profit_mil asset_mil employees founder_is_ceo\n",
            "1               NA    168828.6         NA        NA        NA               \n",
            "2               NA    137137.0         NA        NA        NA               \n",
            "3               NA    110009.0         NA        NA        NA               \n",
            "4               NA     93627.0         NA        NA        NA               \n",
            "5               NA     79609.0         NA        NA        NA               \n",
            "6               NA     71940.0         NA        NA        NA               \n",
            "  female_ceo newcomer_to_fortune_500 global_500\n",
            "1                                              \n",
            "2                                              \n",
            "3                                              \n",
            "4                                              \n",
            "5                                              \n",
            "6                                              \n"
          ]
        }
      ]
    },
    {
      "cell_type": "code",
      "source": [
        "# Write CSV file\n",
        "df <- data.frame(Name = c(\"Alice\", \"Bob\"), Age = c(25, 30))\n",
        "write.csv(df, \"output.csv\", row.names = FALSE)\n"
      ],
      "metadata": {
        "id": "h6TXU9l_b235"
      },
      "execution_count": null,
      "outputs": []
    },
    {
      "cell_type": "code",
      "source": [
        "#  Read tabular data (with space or tab separators)\n",
        "data_table <- read.table(\"data.txt\", header = TRUE)\n"
      ],
      "metadata": {
        "id": "ReNsQiawb9O2"
      },
      "execution_count": null,
      "outputs": []
    },
    {
      "cell_type": "code",
      "source": [
        "# Write tabular data\n",
        "write.table(df, \"output.txt\", row.names = FALSE, sep = \"\\t\")\n"
      ],
      "metadata": {
        "id": "huy9x2n9cCEY"
      },
      "execution_count": null,
      "outputs": []
    },
    {
      "cell_type": "code",
      "source": [
        "#  Read R object from file\n",
        "my_data <- readRDS(\"data.rds\")\n"
      ],
      "metadata": {
        "colab": {
          "base_uri": "https://localhost:8080/",
          "height": 280
        },
        "id": "gFZJQphjcFig",
        "outputId": "d75ab6d8-e070-410f-8202-6f3c75709cce"
      },
      "execution_count": null,
      "outputs": [
        {
          "output_type": "stream",
          "name": "stderr",
          "text": [
            "Warning message in gzfile(file, \"rb\"):\n",
            "“cannot open compressed file 'data.rds', probable reason 'No such file or directory'”\n"
          ]
        },
        {
          "output_type": "error",
          "ename": "ERROR",
          "evalue": "Error in gzfile(file, \"rb\"): cannot open the connection\n",
          "traceback": [
            "Error in gzfile(file, \"rb\"): cannot open the connection\nTraceback:\n",
            "1. gzfile(file, \"rb\")",
            "2. .handleSimpleError(function (cnd) \n . {\n .     watcher$capture_plot_and_output()\n .     cnd <- sanitize_call(cnd)\n .     watcher$push(cnd)\n .     switch(on_error, continue = invokeRestart(\"eval_continue\"), \n .         stop = invokeRestart(\"eval_stop\"), error = NULL)\n . }, \"cannot open the connection\", base::quote(gzfile(file, \"rb\")))"
          ]
        }
      ]
    },
    {
      "cell_type": "code",
      "source": [
        "# Save R object to file\n",
        "saveRDS(df, \"data.rds\")  # Save the dataframe as an RDS file\n",
        "\n"
      ],
      "metadata": {
        "id": "FdWNbPoacJsg"
      },
      "execution_count": null,
      "outputs": []
    },
    {
      "cell_type": "code",
      "source": [
        "# working with factors"
      ],
      "metadata": {
        "id": "jkwGC4BmcOg-"
      },
      "execution_count": null,
      "outputs": []
    },
    {
      "cell_type": "code",
      "source": [
        "# Create a factor variable\n",
        "colors <- factor(c(\"Red\", \"Blue\", \"Green\", \"Red\", \"Blue\"))\n",
        "print(colors)\n"
      ],
      "metadata": {
        "colab": {
          "base_uri": "https://localhost:8080/"
        },
        "id": "7s1sLOz2ca5B",
        "outputId": "a27631ec-1516-4ae8-912e-3ec7c64eccc4"
      },
      "execution_count": null,
      "outputs": [
        {
          "output_type": "stream",
          "name": "stdout",
          "text": [
            "[1] Red   Blue  Green Red   Blue \n",
            "Levels: Blue Green Red\n"
          ]
        }
      ]
    },
    {
      "cell_type": "code",
      "source": [
        "# Get/set levels of a factor\n",
        "levels(colors)\n",
        "levels(colors) <- c(\"Blue\", \"Green\", \"Red\")\n",
        "print(colors)\n"
      ],
      "metadata": {
        "colab": {
          "base_uri": "https://localhost:8080/",
          "height": 69
        },
        "id": "wpLL3T-Ycd-F",
        "outputId": "abcb2653-9653-4b9f-e7da-ac7abf8eb1d2"
      },
      "execution_count": null,
      "outputs": [
        {
          "output_type": "display_data",
          "data": {
            "text/html": [
              "<style>\n",
              ".list-inline {list-style: none; margin:0; padding: 0}\n",
              ".list-inline>li {display: inline-block}\n",
              ".list-inline>li:not(:last-child)::after {content: \"\\00b7\"; padding: 0 .5ex}\n",
              "</style>\n",
              "<ol class=list-inline><li>'Blue'</li><li>'Green'</li><li>'Red'</li></ol>\n"
            ],
            "text/markdown": "1. 'Blue'\n2. 'Green'\n3. 'Red'\n\n\n",
            "text/latex": "\\begin{enumerate*}\n\\item 'Blue'\n\\item 'Green'\n\\item 'Red'\n\\end{enumerate*}\n",
            "text/plain": [
              "[1] \"Blue\"  \"Green\" \"Red\"  "
            ]
          },
          "metadata": {}
        },
        {
          "output_type": "stream",
          "name": "stdout",
          "text": [
            "[1] Red   Blue  Green Red   Blue \n",
            "Levels: Blue Green Red\n"
          ]
        }
      ]
    },
    {
      "cell_type": "code",
      "source": [
        "# Reorder factor levels (set a reference level)\n",
        "colors <- relevel(colors, ref = \"Green\")  # Set \"Green\" as the first level\n",
        "print(colors)\n"
      ],
      "metadata": {
        "colab": {
          "base_uri": "https://localhost:8080/"
        },
        "id": "4PXOjvWtcihL",
        "outputId": "4086a35f-6e31-41ae-a2b3-c64c405dc444"
      },
      "execution_count": null,
      "outputs": [
        {
          "output_type": "stream",
          "name": "stdout",
          "text": [
            "[1] Red   Blue  Green Red   Blue \n",
            "Levels: Green Blue Red\n"
          ]
        }
      ]
    },
    {
      "cell_type": "code",
      "source": [
        "# Convert numeric data into factor bins\n",
        "ages <- c(10, 25, 40, 55, 70)\n",
        "age_groups <- cut(ages, breaks = c(0, 18, 35, 50, 100),\n",
        "                  labels = c(\"Child\", \"Young Adult\", \"Adult\", \"Senior\"))\n",
        "print(age_groups)\n"
      ],
      "metadata": {
        "colab": {
          "base_uri": "https://localhost:8080/"
        },
        "id": "_oMTI6_Ycn8j",
        "outputId": "63e36cca-579b-4a2e-a86b-5f175e258e3c"
      },
      "execution_count": null,
      "outputs": [
        {
          "output_type": "stream",
          "name": "stdout",
          "text": [
            "[1] Child       Young Adult Adult       Senior      Senior     \n",
            "Levels: Child Young Adult Adult Senior\n"
          ]
        }
      ]
    },
    {
      "cell_type": "code",
      "source": [
        "# time handling in r"
      ],
      "metadata": {
        "id": "UJ_YAiOHcv61"
      },
      "execution_count": null,
      "outputs": []
    },
    {
      "cell_type": "code",
      "source": [
        "# Convert to date-time format\n",
        "datetime_ct <- as.POSIXct(\"2024-02-03 14:30:00\")\n",
        "print(datetime_ct)\n"
      ],
      "metadata": {
        "colab": {
          "base_uri": "https://localhost:8080/"
        },
        "id": "XRR95ZvQcyd_",
        "outputId": "0ffac6fc-2dfa-44da-f8d8-f816bee33e82"
      },
      "execution_count": null,
      "outputs": [
        {
          "output_type": "stream",
          "name": "stdout",
          "text": [
            "[1] \"2024-02-03 14:30:00 UTC\"\n"
          ]
        }
      ]
    },
    {
      "cell_type": "code",
      "source": [
        "# Convert to list-like date format\n",
        "datetime_lt <- as.POSIXlt(\"2024-02-03 14:30:00\")\n",
        "print(datetime_lt$year + 1900)  # Extract year\n",
        "print(datetime_lt$hour)  # Extract hour\n"
      ],
      "metadata": {
        "colab": {
          "base_uri": "https://localhost:8080/"
        },
        "id": "hpH-WIiRc1l7",
        "outputId": "45640d85-626d-410a-a551-a9be506be069"
      },
      "execution_count": null,
      "outputs": [
        {
          "output_type": "stream",
          "name": "stdout",
          "text": [
            "[1] 2024\n",
            "[1] 14\n"
          ]
        }
      ]
    },
    {
      "cell_type": "code",
      "source": [
        "# Compute time difference\n",
        "start_time <- as.POSIXct(\"2024-02-03 12:00:00\")\n",
        "end_time <- as.POSIXct(\"2024-02-03 15:30:00\")\n",
        "time_diff <- difftime(end_time, start_time, units = \"hours\")\n",
        "print(time_diff)\n"
      ],
      "metadata": {
        "colab": {
          "base_uri": "https://localhost:8080/"
        },
        "id": "alS61GRUc48X",
        "outputId": "0438cbd2-cd77-46fe-9c68-6e08d8deb517"
      },
      "execution_count": null,
      "outputs": [
        {
          "output_type": "stream",
          "name": "stdout",
          "text": [
            "Time difference of 3.5 hours\n"
          ]
        }
      ]
    },
    {
      "cell_type": "code",
      "source": [
        "# Format dates\n",
        "formatted_date <- format(Sys.time(), \"%Y-%m-%d %H:%M:%S\")\n",
        "print(formatted_date)\n"
      ],
      "metadata": {
        "colab": {
          "base_uri": "https://localhost:8080/"
        },
        "id": "Cnuvv5Gsc7zg",
        "outputId": "2aaf7349-c8df-435d-94f8-ac4670bf1e7f"
      },
      "execution_count": null,
      "outputs": [
        {
          "output_type": "stream",
          "name": "stdout",
          "text": [
            "[1] \"2025-02-03 15:35:36\"\n"
          ]
        }
      ]
    },
    {
      "cell_type": "code",
      "source": [
        "# managing objects in environment"
      ],
      "metadata": {
        "id": "kN05svAmdFhn"
      },
      "execution_count": null,
      "outputs": []
    },
    {
      "cell_type": "code",
      "source": [
        "# List objects in the environment\n",
        "x <- 10\n",
        "y <- \"Hello\"\n",
        "z <- c(1, 2, 3)\n",
        "print(ls())  # List all objects\n"
      ],
      "metadata": {
        "colab": {
          "base_uri": "https://localhost:8080/"
        },
        "id": "zGuQe9WOdJnB",
        "outputId": "761dc81a-804a-4f59-cc15-737c7b1b993e"
      },
      "execution_count": null,
      "outputs": [
        {
          "output_type": "stream",
          "name": "stdout",
          "text": [
            " [1] \"add_numbers\"      \"age_groups\"       \"ages\"             \"check_age\"       \n",
            " [5] \"check_positive\"   \"colors\"           \"current_dir\"      \"data\"            \n",
            " [9] \"datetime_ct\"      \"datetime_lt\"      \"end_time\"         \"files\"           \n",
            "[13] \"formatted_date\"   \"i\"                \"multiply_numbers\" \"result\"          \n",
            "[17] \"result1\"          \"result2\"          \"safe_log\"         \"start_time\"      \n",
            "[21] \"time_diff\"        \"x\"                \"y\"                \"z\"               \n"
          ]
        }
      ]
    },
    {
      "cell_type": "code",
      "source": [
        "# Remove objects\n",
        "rm(x)  # Remove object x\n",
        "print(ls())  # Verify x is removed\n"
      ],
      "metadata": {
        "colab": {
          "base_uri": "https://localhost:8080/"
        },
        "id": "5dA41ABvdN2L",
        "outputId": "36acf9b9-8691-4c82-f374-de9cd9df9b26"
      },
      "execution_count": null,
      "outputs": [
        {
          "output_type": "stream",
          "name": "stdout",
          "text": [
            " [1] \"add_numbers\"      \"age_groups\"       \"ages\"             \"check_age\"       \n",
            " [5] \"check_positive\"   \"colors\"           \"current_dir\"      \"data\"            \n",
            " [9] \"datetime_ct\"      \"datetime_lt\"      \"end_time\"         \"files\"           \n",
            "[13] \"formatted_date\"   \"i\"                \"multiply_numbers\" \"result\"          \n",
            "[17] \"result1\"          \"result2\"          \"safe_log\"         \"start_time\"      \n",
            "[21] \"time_diff\"        \"y\"                \"z\"               \n"
          ]
        }
      ]
    },
    {
      "cell_type": "code",
      "source": [
        "# Perform garbage collection\n",
        "gc()  # Free up memory\n"
      ],
      "metadata": {
        "colab": {
          "base_uri": "https://localhost:8080/",
          "height": 129
        },
        "id": "dseEO0QsdRT5",
        "outputId": "c2d68742-5654-4a49-ee1c-b27941576469"
      },
      "execution_count": null,
      "outputs": [
        {
          "output_type": "display_data",
          "data": {
            "text/html": [
              "<table class=\"dataframe\">\n",
              "<caption>A matrix: 2 × 6 of type dbl</caption>\n",
              "<thead>\n",
              "\t<tr><th></th><th scope=col>used</th><th scope=col>(Mb)</th><th scope=col>gc trigger</th><th scope=col>(Mb)</th><th scope=col>max used</th><th scope=col>(Mb)</th></tr>\n",
              "</thead>\n",
              "<tbody>\n",
              "\t<tr><th scope=row>Ncells</th><td> 712692</td><td>38.1</td><td>1437941</td><td>76.8</td><td>1437941</td><td>76.8</td></tr>\n",
              "\t<tr><th scope=row>Vcells</th><td>1570609</td><td>12.0</td><td>8388608</td><td>64.0</td><td>3115359</td><td>23.8</td></tr>\n",
              "</tbody>\n",
              "</table>\n"
            ],
            "text/markdown": "\nA matrix: 2 × 6 of type dbl\n\n| <!--/--> | used | (Mb) | gc trigger | (Mb) | max used | (Mb) |\n|---|---|---|---|---|---|---|\n| Ncells |  712692 | 38.1 | 1437941 | 76.8 | 1437941 | 76.8 |\n| Vcells | 1570609 | 12.0 | 8388608 | 64.0 | 3115359 | 23.8 |\n\n",
            "text/latex": "A matrix: 2 × 6 of type dbl\n\\begin{tabular}{r|llllll}\n  & used & (Mb) & gc trigger & (Mb) & max used & (Mb)\\\\\n\\hline\n\tNcells &  712692 & 38.1 & 1437941 & 76.8 & 1437941 & 76.8\\\\\n\tVcells & 1570609 & 12.0 & 8388608 & 64.0 & 3115359 & 23.8\\\\\n\\end{tabular}\n",
            "text/plain": [
              "       used    (Mb) gc trigger (Mb) max used (Mb)\n",
              "Ncells  712692 38.1 1437941    76.8 1437941  76.8\n",
              "Vcells 1570609 12.0 8388608    64.0 3115359  23.8"
            ]
          },
          "metadata": {}
        }
      ]
    },
    {
      "cell_type": "code",
      "source": [
        "# debugging functions"
      ],
      "metadata": {
        "id": "d8W1TcaodUdS"
      },
      "execution_count": null,
      "outputs": []
    },
    {
      "cell_type": "code",
      "source": [
        "#  Debug a function\n",
        "my_function <- function(x) {\n",
        "    y <- x + 10\n",
        "    return(y)\n",
        "}\n",
        "debug(my_function)  # Enable debugging\n",
        "my_function(5)  # Runs in debug mode\n"
      ],
      "metadata": {
        "colab": {
          "base_uri": "https://localhost:8080/",
          "height": 173
        },
        "id": "6UQLtvB-dW5m",
        "outputId": "e12c1c6e-0b58-46d1-aac4-b179466107bd"
      },
      "execution_count": null,
      "outputs": [
        {
          "output_type": "stream",
          "name": "stdout",
          "text": [
            "debugging in: my_function(5)\n",
            "debug: {\n",
            "    y <- x + 10\n",
            "    return(y)\n",
            "}\n",
            "debug: y <- x + 10\n",
            "debug: return(y)\n",
            "exiting from: my_function(5)\n"
          ]
        },
        {
          "output_type": "display_data",
          "data": {
            "text/html": [
              "15"
            ],
            "text/markdown": "15",
            "text/latex": "15",
            "text/plain": [
              "[1] 15"
            ]
          },
          "metadata": {}
        }
      ]
    },
    {
      "cell_type": "code",
      "source": [
        "# Show call stack after error\n",
        "error_function <- function() {\n",
        "    stop(\"This is an error\")\n",
        "}\n",
        "error_function()  # Causes an error\n",
        "traceback()  # Shows the call stack\n"
      ],
      "metadata": {
        "colab": {
          "base_uri": "https://localhost:8080/",
          "height": 245
        },
        "id": "y9KQYcT7dZ6A",
        "outputId": "2cd4d403-df6d-4218-b78f-fa4298419e1a"
      },
      "execution_count": null,
      "outputs": [
        {
          "output_type": "error",
          "ename": "ERROR",
          "evalue": "Error in error_function(): This is an error\n",
          "traceback": [
            "Error in error_function(): This is an error\nTraceback:\n",
            "1. stop(\"This is an error\")",
            "2. .handleSimpleError(function (cnd) \n . {\n .     watcher$capture_plot_and_output()\n .     cnd <- sanitize_call(cnd)\n .     watcher$push(cnd)\n .     switch(on_error, continue = invokeRestart(\"eval_continue\"), \n .         stop = invokeRestart(\"eval_stop\"), error = NULL)\n . }, \"This is an error\", base::quote(error_function()))"
          ]
        }
      ]
    },
    {
      "cell_type": "code",
      "source": [
        "# Print output\n",
        "message <- \"Hello, world!\"\n",
        "print(message)\n"
      ],
      "metadata": {
        "colab": {
          "base_uri": "https://localhost:8080/"
        },
        "id": "CBMmz70JddDM",
        "outputId": "b94d7ba7-fafc-412a-ce7d-9c3e588903bb"
      },
      "execution_count": null,
      "outputs": [
        {
          "output_type": "stream",
          "name": "stdout",
          "text": [
            "[1] \"Hello, world!\"\n"
          ]
        }
      ]
    },
    {
      "cell_type": "code",
      "source": [
        "# Print text output (better for formatted output)\n",
        "name <- \"Alice\"\n",
        "age <- 25\n",
        "cat(\"Name:\", name, \"\\nAge:\", age, \"\\n\")\n"
      ],
      "metadata": {
        "colab": {
          "base_uri": "https://localhost:8080/"
        },
        "id": "i8vZyknjdgm3",
        "outputId": "9ebcbd28-4318-491c-a2da-4608a5070810"
      },
      "execution_count": null,
      "outputs": [
        {
          "output_type": "stream",
          "name": "stdout",
          "text": [
            "Name: Alice \n",
            "Age: 25 \n"
          ]
        }
      ]
    }
  ]
}